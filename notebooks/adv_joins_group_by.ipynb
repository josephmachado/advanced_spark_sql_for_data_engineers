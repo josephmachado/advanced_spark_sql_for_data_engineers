{
 "cells": [
  {
   "cell_type": "markdown",
   "id": "b7e7e536-da58-4819-8812-3a9e99f9ea2d",
   "metadata": {},
   "source": [
    "# Spark SQL Workshop: Advanced join & group by techniques"
   ]
  },
  {
   "cell_type": "markdown",
   "id": "dea0a561-b750-495c-b570-e74c7ca2a38e",
   "metadata": {},
   "source": [
    "## Setup data"
   ]
  },
  {
   "cell_type": "code",
   "execution_count": null,
   "id": "98a80054-51f7-497e-a4b3-ffc9a9bcec47",
   "metadata": {
    "scrolled": true
   },
   "outputs": [],
   "source": [
    "%%bash\n",
    "python ./generate_data.py\n",
    "python ./run_ddl.py"
   ]
  },
  {
   "cell_type": "code",
   "execution_count": null,
   "id": "96686b88-9083-46eb-9938-f517be0fab4f",
   "metadata": {
    "scrolled": true
   },
   "outputs": [],
   "source": [
    "!jupyter labextension install jupyterlab-mermaid"
   ]
  },
  {
   "cell_type": "code",
   "execution_count": null,
   "id": "fc5d04a7-bc0e-44fc-b8be-7d8e36c92dda",
   "metadata": {},
   "outputs": [],
   "source": [
    "spark"
   ]
  },
  {
   "cell_type": "code",
   "execution_count": null,
   "id": "32129ccc-b2a7-4119-9acd-49cf976bc3a3",
   "metadata": {},
   "outputs": [],
   "source": [
    "%%sql\n",
    "use prod.db"
   ]
  },
  {
   "cell_type": "markdown",
   "id": "3e1df8d3-1c86-4a2a-93dd-677940cc5948",
   "metadata": {},
   "source": [
    "## [Quick refresher] Facts & Dimensions & Join Types\n",
    "\n",
    "1. `Fact` tables containing information about how dimensions interact with each other in real life. Example: An order fact is an interaction between a customer and a seller involving one or more products. E.g. `Lineitem` & `Orders`.\n",
    "2. `Dimension` tables store data for a business entity (e.g., customer, product, partner, etc). These tables describe the ‘who’ and ‘what’ types of questions. For example, which stores had the highest revenue yesterday? In this question, stores will be the dimension. E.g., `Customer`, `Supplier`\n",
    "\n",
    "**Data used for exercises**\n",
    "\n",
    "![TPCH](./images/tpch.png)\n",
    "\n",
    "**Common Join Types (in order of real life usage):**\n",
    "\n",
    "1. **Inner Join(default)**: Get only rows in both tables\n",
    "2. **Left outer Join**: Get all rows from the left table and only matching rows from the right table. Used to enrich a table with information.\n",
    "3. **Full outer Join**: Get all rows from both the left and right tables. Used for data validataion\n",
    "\n",
    "![Joins](./images/join.png)\n"
   ]
  },
  {
   "cell_type": "code",
   "execution_count": null,
   "id": "a6f66258-437c-4014-b687-02ade186569e",
   "metadata": {},
   "outputs": [],
   "source": [
    "%%sql\n",
    "SELECT\n",
    "  YEAR (o.o_orderdate) AS order_year,\n",
    "  c.c_name,\n",
    "  AVG(o.o_totalprice) AS avg_order_price\n",
    "FROM\n",
    "  orders o\n",
    "  LEFT JOIN customer c ON o.o_custkey = c.c_custkey\n",
    "GROUP BY\n",
    "  YEAR (o.o_orderdate),\n",
    "  c.c_custkey,\n",
    "  c.c_name\n",
    "ORDER BY\n",
    "  1 desc,\n",
    "  c_custkey\n",
    "LIMIT\n",
    "  10"
   ]
  },
  {
   "cell_type": "markdown",
   "id": "feaf1133-4021-416a-a7ec-87eb606f9cdb",
   "metadata": {},
   "source": [
    "```mermaid\n",
    "flowchart LR\n",
    "    subgraph A[\"Orders (Fact Table) - Wider\"]\n",
    "        A1[\"o_custkey: 1001 | o_orderdate: 2023-01-15 | o_totalprice: 75000.00\"]\n",
    "        A2[\"o_custkey: 1002 | o_orderdate: 2023-02-20 | o_totalprice: 120000.00\"]\n",
    "        A3[\"o_custkey: 1001 | o_orderdate: 2023-03-10 | o_totalprice: 95000.00\"]\n",
    "        A4[\"o_custkey: 1003 | o_orderdate: 2023-04-05 | o_totalprice: 85000.00\"]\n",
    "        A5[\"o_custkey: 9999 | o_orderdate: 2023-05-12 | o_totalprice: 50000.00\"]\n",
    "    end\n",
    "    \n",
    "    subgraph B[\"Customer (Dimension Table)\"]\n",
    "        B1[\"c_custkey: 1001 | c_name: John Smith\"]\n",
    "        B2[\"c_custkey: 1002 | c_name: Jane Doe\"]\n",
    "        B3[\"c_custkey: 1003 | c_name: Bob Wilson\"]\n",
    "    end\n",
    "    \n",
    "    subgraph C[\"Result\"]\n",
    "        C1[\"order_year: 2023 | c_name: John Smith | avg_order_price: 85000.00\"]\n",
    "        C2[\"order_year: 2023 | c_name: Jane Doe | avg_order_price: 120000.00\"]\n",
    "        C3[\"order_year: 2023 | c_name: Bob Wilson | avg_order_price: 85000.00\"]\n",
    "        C4[\"order_year: 2023 | c_name: NULL | avg_order_price: 50000.00\"]\n",
    "    end\n",
    "    \n",
    "    A1 -.->|matches| B1\n",
    "    A2 -.->|matches| B2\n",
    "    A3 -.->|matches| B1\n",
    "    A4 -.->|matches| B3\n",
    "    A5 -.->|no match| C4\n",
    "    \n",
    "    B1 -->|contributes to| C1\n",
    "    B2 -->|contributes to| C2\n",
    "    B3 -->|contributes to| C3\n",
    "    \n",
    "    style A fill:#e74c3c,stroke:#c0392b,color:#fff,stroke-width:3px\n",
    "    style B fill:#3498db,stroke:#2980b9,color:#fff,stroke-width:2px\n",
    "    style C fill:#27ae60,stroke:#229954,color:#fff,stroke-width:2px\n",
    "```"
   ]
  },
  {
   "cell_type": "markdown",
   "id": "c8644127-0d35-49d9-be70-d8d8cb48644c",
   "metadata": {},
   "source": [
    "## [Joins] can also be used to find differences in datasets\n",
    "\n",
    "- While `joins` are typically used to combine tables, they can also be used to find differences in datasets\n",
    "\n",
    "- When joining tables, there is usually one table called the `driver/base` table to which other tables are joined. Different people/teams have a different term for this.\n",
    "\n",
    "- Join based differences are typically used to assed the `completeness` of a dataset.\n"
   ]
  },
  {
   "cell_type": "markdown",
   "id": "81e25e16-f16f-466d-a3b6-0c999c7c59f4",
   "metadata": {},
   "source": [
    "### Find data in a table that is not part of another table with `anti join`\n",
    "\n",
    "- When you need to get rows that are in one table but not in another, use `anti join`\n",
    "\n",
    "- You can get the rows from the left table that do not have any matches from the right table\n"
   ]
  },
  {
   "cell_type": "markdown",
   "id": "ca273baf-8824-4601-8a36-cb0532686f30",
   "metadata": {},
   "source": [
    "#### Exercise ( 5 min )\n",
    "1. In the below query, get all the data from `orders` CTE that is not in `lineitem` CTE."
   ]
  },
  {
   "cell_type": "markdown",
   "id": "913188a7-4103-48c8-b410-53c3dcb41475",
   "metadata": {},
   "source": [
    "```mermaid\n",
    "flowchart LR\n",
    "    subgraph A[\"Orders Table\"]\n",
    "        A1[\"`**o_orderkey | o_custkey**\n",
    "        001 | 1001\n",
    "        002 | 1002\n",
    "        003 | 1003\n",
    "        004 | 1004\n",
    "        005 | 1005`\"]\n",
    "    end\n",
    "    \n",
    "    subgraph B[\"LineItem Table\"]\n",
    "        B1[\"`**l_orderkey | l_partkey**\n",
    "        001 | 2001\n",
    "        003 | 2003\n",
    "        005 | 2004`\"]\n",
    "    end\n",
    "    \n",
    "    subgraph C[\"Result\"]\n",
    "        C1[\"`**o_orderkey | o_custkey**\n",
    "        002 | 1002\n",
    "        004 | 1004`\"]\n",
    "    end\n",
    "    \n",
    "    A1 -->|ANTI JOIN| C1\n",
    "    B1 -.->|\"ON o_orderkey = l_orderkey\"| C1\n",
    "    \n",
    "    style A fill:#3498db,stroke:#2980b9,color:#fff\n",
    "    style B fill:#27ae60,stroke:#229954,color:#fff\n",
    "    style C fill:#e74c3c,stroke:#c0392b,color:#fff\n",
    "```"
   ]
  },
  {
   "cell_type": "code",
   "execution_count": null,
   "id": "fb4b60e6-f138-4af8-a6dc-943b699a1f7e",
   "metadata": {},
   "outputs": [],
   "source": [
    "%%sql\n",
    "WITH\n",
    "  orders AS (\n",
    "    SELECT\n",
    "      001 AS o_orderkey,\n",
    "      1001 AS o_custkey\n",
    "    UNION ALL\n",
    "    SELECT\n",
    "      002 AS o_orderkey,\n",
    "      1002 AS o_custkey\n",
    "    UNION ALL\n",
    "    SELECT\n",
    "      003 AS o_orderkey,\n",
    "      1003 AS o_custkey\n",
    "    UNION ALL\n",
    "    SELECT\n",
    "      004 AS o_orderkey,\n",
    "      1004 AS o_custkey\n",
    "    UNION ALL\n",
    "    SELECT\n",
    "      005 AS o_orderkey,\n",
    "      1005 AS o_custkey\n",
    "  ),\n",
    "  lineitem AS (\n",
    "    SELECT\n",
    "      001 AS l_orderkey,\n",
    "      2001 AS l_partkey\n",
    "    UNION ALL\n",
    "    SELECT\n",
    "      003 AS l_orderkey,\n",
    "      2003 AS l_partkey\n",
    "    UNION ALL\n",
    "    SELECT\n",
    "      005 AS l_orderkey,\n",
    "      2004 AS l_partkey\n",
    "  )\n",
    "-- Your query here"
   ]
  },
  {
   "cell_type": "markdown",
   "id": "b2915962-7394-458c-bac5-48f6cf8ab91e",
   "metadata": {},
   "source": [
    "    \n",
    "### Find out if a table had data in another table `asof` a specific time with `asof join` (not available in Spark)\n",
    "\n",
    "- When you need to join rows based on how close they are in time.\n",
    "\n",
    "- Usually used when you need to get the \"latest\" price or state from a fact table. This type of join is generally used between fact tables.\n",
    "                                                                               \n",
    "- Also referred to as point-in-time join\n"
   ]
  },
  {
   "cell_type": "markdown",
   "id": "39c29b80-7af5-485f-a3f0-699f31c5b90d",
   "metadata": {},
   "source": [
    "#### Exercise ( 5 min )\n",
    "1. In the below query, get the `symbol, company, listing_date` from `stock` CTE, and for the stock, get their price as of asof the `listing_date`.\n",
    "\n",
    "*Note* Assume the `price_tracker` CTE is a fact table where every change to the stocks is added to (typically, this is in milliseconds, but for simplicity, we keep it at a day level)"
   ]
  },
  {
   "cell_type": "markdown",
   "id": "aa4d832c-92b3-4cb2-850b-159ab770189a",
   "metadata": {},
   "source": [
    "```mermaid\n",
    "flowchart LR\n",
    "    subgraph A[\"Stock Table\"]\n",
    "        A1[\"AAPL | Apple Inc. | 2024-01-15\"]\n",
    "        A2[\"GOOGL | Alphabet Inc. | 2024-01-26\"]\n",
    "        A3[\"MSFT | Microsoft Corp. | 2024-02-01\"]\n",
    "    end\n",
    "    \n",
    "    subgraph B[\"Price Tracker Table\"]\n",
    "        B1[\"AAPL | 150.00 | 2024-01-10\"]\n",
    "        B2[\"AAPL | 155.00 | 2024-01-20\"]\n",
    "        B3[\"GOOGL | 2800.00 | 2024-01-25\"]\n",
    "        B4[\"GOOGL | 2850.00 | 2024-02-05\"]\n",
    "        B5[\"MSFT | 400.00 | 2024-02-10\"]\n",
    "    end\n",
    "    \n",
    "    subgraph C[\"Result\"]\n",
    "        C1[\"AAPL | Apple Inc. | 150.00 | 2024-01-10\"]\n",
    "        C2[\"GOOGL | Alphabet Inc. | 2800.00 | 2024-01-25\"]\n",
    "        C3[\"MSFT | Microsoft Corp. | None | None\"]\n",
    "    end\n",
    "    \n",
    "    A1 -->|valid: price_date ≤ listing_date| B1\n",
    "    A1 -.->|invalid: 2024-01-20 > 2024-01-15| B2\n",
    "    A2 -->|valid: price_date ≤ listing_date| B3\n",
    "    A2 -.->|invalid: 2024-02-05 > 2024-01-26| B4\n",
    "    A3 -.->|invalid: 2024-02-10 > 2024-02-01| B5\n",
    "    \n",
    "    B1 -->|latest valid price| C1\n",
    "    B3 -->|latest valid price| C2\n",
    "    \n",
    "    \n",
    "    style A fill:#3498db,stroke:#2980b9,color:#fff\n",
    "    style B fill:#27ae60,stroke:#229954,color:#fff\n",
    "    style C fill:#e74c3c,stroke:#c0392b,color:#fff\n",
    "    style B2 fill:#95a5a6,stroke:#7f8c8d,color:#fff\n",
    "    style B4 fill:#95a5a6,stroke:#7f8c8d,color:#fff\n",
    "```"
   ]
  },
  {
   "cell_type": "code",
   "execution_count": null,
   "id": "9addb601-c88c-4f24-9480-d6e8ed8176ee",
   "metadata": {},
   "outputs": [],
   "source": [
    "%%sql\n",
    "WITH\n",
    "  stock AS (\n",
    "    SELECT\n",
    "      'AAPL' AS symbol,\n",
    "      'Apple Inc.' AS company,\n",
    "      '2024-01-15' AS listing_date\n",
    "    UNION ALL\n",
    "    SELECT\n",
    "      'GOOGL' AS symbol,\n",
    "      'Alphabet Inc.' AS company,\n",
    "      '2024-01-26' AS listing_date\n",
    "    UNION ALL\n",
    "    SELECT\n",
    "      'MSFT' AS symbol,\n",
    "      'Microsoft Corp.' AS company,\n",
    "      '2024-02-01' AS listing_date\n",
    "  ),\n",
    "  price_tracker AS (\n",
    "    SELECT\n",
    "      'AAPL' AS symbol,\n",
    "      150.00 AS price,\n",
    "      '2024-01-10' AS price_date\n",
    "    UNION ALL\n",
    "    SELECT\n",
    "      'AAPL' AS symbol,\n",
    "      155.00 AS price,\n",
    "      '2024-01-20' AS price_date -- this is the latest price for apple and will be picked\n",
    "    UNION ALL\n",
    "    SELECT\n",
    "      'GOOGL' AS symbol,\n",
    "      2800.00 AS price,\n",
    "      '2024-01-25' AS price_date\n",
    "    UNION ALL\n",
    "    SELECT\n",
    "      'GOOGL' AS symbol,\n",
    "      2850.00 AS price,\n",
    "      '2024-02-05' AS price_date -- this is the latest price for google and will be picked\n",
    "    UNION ALL\n",
    "    SELECT\n",
    "      'MSFT' AS symbol,\n",
    "      400.00 AS price,\n",
    "      '2024-02-10' AS price_date -- this is the latest price for microsoft and will be picked\n",
    "  ),\n",
    " -- Your query here"
   ]
  },
  {
   "cell_type": "markdown",
   "id": "3d92f3db-342c-426d-967f-23948592aea2",
   "metadata": {},
   "source": [
    "**Hint:** Get all the prices for a symbol and filter to the latest one"
   ]
  },
  {
   "cell_type": "markdown",
   "id": "4c88957e-9381-4a00-ac61-63302aecb402",
   "metadata": {},
   "source": [
    "\n",
    "### Join results depend on referential integrity (aka `foreign key` relationships)\n",
    "\n",
    "- In a data warehouse, some upstream tables land sooner than others\n",
    "\n",
    "- When you `inner join` a quick table with a slow table, you will lose data\n",
    "\n",
    "- For example, if your order data arrives much quicker than customer data, your joins will either produce nulls (left join) or not be included in the output (inner joins)\n",
    "\n",
    "- Usually, an `UNKNOWN` catch-all is used for the missing data; you can also re-run the pipeline to reconcile when the slow data lands\n"
   ]
  },
  {
   "cell_type": "markdown",
   "id": "8bf2b7b4-9331-4162-a6a9-23f3066bb273",
   "metadata": {},
   "source": [
    "#### Exercise ( 10 min )\n",
    "\n",
    "1. Assume you have to join orders (loaded into our warehouse every 5 minutes) and customers (loaded into our warehouse every 6 hours) tables; how do you ensure that the results of your join are **as expected**? \n",
    "\n",
    "\n",
    "2. What will you do if you find the table(s) are incomplete?"
   ]
  },
  {
   "cell_type": "code",
   "execution_count": null,
   "id": "da6a5a87-d40d-48d7-a1af-3f9203ea438d",
   "metadata": {},
   "outputs": [],
   "source": [
    "%%sql\n",
    "WITH\n",
    "  latest_orders AS (\n",
    "    SELECT\n",
    "      *\n",
    "    FROM\n",
    "      orders\n",
    "    UNION ALL\n",
    "    SELECT\n",
    "      9999999 AS o_orderkey,\n",
    "      8888888 AS o_custkey,\n",
    "      'O' AS o_orderstatus,\n",
    "      1500000.00 AS o_totalprice,\n",
    "      '2024-06-14' AS o_orderdate,\n",
    "      '1-URGENT' AS o_orderpriority,\n",
    "      'Clerk#000000999' AS o_clerk,\n",
    "      0 AS o_shippriority,\n",
    "      'New order for non-existent customer' AS o_comment\n",
    "  )\n",
    "SELECT\n",
    "  o.*,\n",
    "  c.* -- What would you do with these NULLs?\n",
    "FROM\n",
    "  latest_orders o\n",
    "  LEFT JOIN customer c ON o.o_custkey = c.c_custkey\n",
    "WHERE\n",
    "  c.c_custkey IS NULL"
   ]
  },
  {
   "cell_type": "markdown",
   "id": "38a0e90a-8a91-4d74-984e-bc759a231acc",
   "metadata": {},
   "source": [
    "**Hint**: Start by defining what `as expected` means."
   ]
  },
  {
   "cell_type": "markdown",
   "id": "c4731dba-cdb2-48ac-876d-7737473b747f",
   "metadata": {},
   "source": [
    "```mermaid\n",
    "graph LR\n",
    "    A[Order Data Stream] --> B[Order data ingested in 5 min chunks]\n",
    "    C[Customer Data Dump] --> D[Customer data loaded every 6h]\n",
    "    \n",
    "    B --> F[Join Processing]\n",
    "    D --> F\n",
    "    \n",
    "    F --> G{Join Type}\n",
    "    \n",
    "    G -->|LEFT JOIN| H[Orders LEFT JOIN Customers]\n",
    "    G -->|INNER JOIN| I[Orders INNER JOIN Customers]\n",
    "    \n",
    "    H --> J[Result: Orders with NULL customer fields<br/>- Order ID: 123, Customer Name: NULL<br/>- Order ID: 124, Customer Name: NULL]\n",
    "    \n",
    "    I --> K[Result: Empty or partial results<br/>- Missing orders without customer data<br/>- Delayed processing until customers arrive]\n",
    "    \n",
    "    style A fill:#e1f5fe\n",
    "    style C fill:#f3e5f5\n",
    "    style J fill:#ffebee\n",
    "    style K fill:#fff3e0\n",
    "```"
   ]
  },
  {
   "cell_type": "markdown",
   "id": "e5eca369-83a0-4f7b-9e7d-d14d923eb4b4",
   "metadata": {},
   "source": [
    "### Common data issues that create bad outputs when joining\n",
    "\n",
    "- Ensure that your table(s) have a single grain before joining them together.\n",
    "\n",
    "- Handle slow and fast data joins based on the use case\n",
    "\n",
    "- Be careful if your join keys have NULLs, NULL != NULL; But you can use null safe equality <=>. Be very mindful as NULL can represent any number of things.\n",
    "                                \n",
    "- Be mindful of applying functions in join criteria; they can impact performance significantly and interferce with query planning in your DB engine. Not incorrect, but will slow down your joins"
   ]
  },
  {
   "cell_type": "code",
   "execution_count": 7,
   "id": "28c96fd0-1a52-4d0f-a8a7-0f9b307293f1",
   "metadata": {},
   "outputs": [
    {
     "data": {
      "text/html": [
       "<table>\n",
       "    <thead>\n",
       "        <tr>\n",
       "            <th>id</th>\n",
       "            <th>data_value</th>\n",
       "        </tr>\n",
       "    </thead>\n",
       "    <tbody>\n",
       "        <tr>\n",
       "            <td>2</td>\n",
       "            <td>None</td>\n",
       "        </tr>\n",
       "    </tbody>\n",
       "</table>"
      ],
      "text/plain": [
       "+----+------------+\n",
       "| id | data_value |\n",
       "+----+------------+\n",
       "|  2 |       None |\n",
       "+----+------------+"
      ]
     },
     "execution_count": 7,
     "metadata": {},
     "output_type": "execute_result"
    }
   ],
   "source": [
    "%%sql \n",
    "WITH foo_tbl as (\n",
    "    select 1 as id\n",
    "    , 'foo' as data_value\n",
    "    UNION ALL\n",
    "    select 2 as id\n",
    "    , NULL as data_value\n",
    "),\n",
    " bar_tbl as (\n",
    "    select 1 as id\n",
    "    , 'bar' as data_value\n",
    "    UNION ALL\n",
    "    select 2 as id\n",
    "    , NULL as data_value\n",
    ")\n",
    "select f.*\n",
    "from foo_tbl f\n",
    "join bar_tbl b\n",
    "on f.id = b.id and f.data_value <=> b.data_value"
   ]
  },
  {
   "cell_type": "markdown",
   "id": "6810ee05-3b13-4d23-94fb-f959a353abd9",
   "metadata": {},
   "source": [
    "## [Group bys] can be used for validating assumptions about data, creating nested data structures, & Excel like reporting\n"
   ]
  },
  {
   "cell_type": "markdown",
   "id": "cd17ac40-57c9-4ff6-bf49-5ba714ee5876",
   "metadata": {},
   "source": [
    "### Check the distribution of dimensions (date, state, etc) to validate assumptions about your data"
   ]
  },
  {
   "cell_type": "markdown",
   "id": "e26db404-fee3-4e31-929c-c14d9fc62a75",
   "metadata": {},
   "source": [
    "#### Exercise ( 5 min )\n",
    "\n",
    "Is the data representative of real-world customer numbers?"
   ]
  },
  {
   "cell_type": "code",
   "execution_count": null,
   "id": "d3c92da2-604b-4c48-bdf8-765d7faac8b5",
   "metadata": {},
   "outputs": [],
   "source": [
    "%%sql\n",
    "SELECT\n",
    "  n.n_name AS nation_name,\n",
    "  COUNT(*) AS num_customers\n",
    "FROM\n",
    "  customer c\n",
    "  LEFT JOIN nation n ON c.c_nationkey = n.n_nationkey\n",
    "GROUP BY\n",
    "  n.n_name\n",
    "ORDER BY\n",
    "  num_customers desc\n",
    "LIMIT\n",
    "  10"
   ]
  },
  {
   "cell_type": "markdown",
   "id": "6039938f-9a1c-4d8d-8f13-b81ecc68ba42",
   "metadata": {},
   "source": [
    "-- your observations here"
   ]
  },
  {
   "cell_type": "markdown",
   "id": "c657098e-6843-4571-8aa3-5e716a362a9f",
   "metadata": {},
   "source": [
    "### Check unique key constraints\n",
    "* most warehouses allow you to define PK but don't enforce them"
   ]
  },
  {
   "cell_type": "markdown",
   "id": "cc5e9d6a-73c4-4196-a4ec-f18ad3dbf255",
   "metadata": {},
   "source": [
    "#### Exercise ( 5 min ) \n",
    "\n",
    "How would you use the `group by` clause to verify that the' c_custkey' column in the customer table is unique?"
   ]
  },
  {
   "cell_type": "code",
   "execution_count": null,
   "id": "41d29b4f-a92f-4cd7-82ca-413acfa3e0ec",
   "metadata": {},
   "outputs": [],
   "source": [
    "%%sql\n",
    "-- your query here, return some data if there are non-unique customer key"
   ]
  },
  {
   "cell_type": "markdown",
   "id": "fd4e0979-4468-4e99-8bc6-88651ad2a52f",
   "metadata": {},
   "source": [
    "### Aggregation functions beyond the standard count/min/max/avg/sum\n",
    "\n",
    "- `Statistical agg`: Functions like correlation, sampling, standard deviation, skew, etc\n",
    "\n",
    "- `Collection agg`: Functions to combine values into nested data types, e.g., array_agg, collect_set, etc\n",
    "\n",
    "- `Approximation agg`: Functions that are fast by sacrificing accuracy, e.g., approx_distinct, approx_most_frequent\n",
    "\n",
    "- `Convenience agg`: Functions that make common usages easier, e.g., count_if, bool_or, etc\n",
    "\n",
    "While you can use your own logic to replicate some of the above functions, in-built functions are generally stable and well-tested."
   ]
  },
  {
   "cell_type": "code",
   "execution_count": null,
   "id": "f9e7244a-b291-43e3-9a76-c6a2a9ff3a25",
   "metadata": {},
   "outputs": [],
   "source": [
    "%%sql\n",
    "SELECT\n",
    "  YEAR (o_orderdate) AS yr,\n",
    "  SUM(\n",
    "    CASE\n",
    "      WHEN o_orderpriority = '5-LOW' THEN 1\n",
    "      ELSE 0\n",
    "    END\n",
    "  ) AS num_low_orders,\n",
    "  count_if (o_orderpriority = '5-LOW') AS num_low_orders_easy -- Convenience agg\n",
    "FROM\n",
    "  orders\n",
    "GROUP BY\n",
    "  1\n",
    "ORDER BY\n",
    "  1 desc"
   ]
  },
  {
   "cell_type": "code",
   "execution_count": null,
   "id": "945898d5-5de7-4457-9c0b-9c9955796961",
   "metadata": {
    "scrolled": true
   },
   "outputs": [],
   "source": [
    "%%sql\n",
    "SELECT\n",
    "  l_orderkey,\n",
    "  collect_list (l_linenumber) AS line_number,\n",
    "  collect_list (\n",
    "    struct (\n",
    "      l_linenumber AS line_number,\n",
    "      l_quantity AS quantity,\n",
    "      l_extendedprice AS price\n",
    "    )\n",
    "  ) AS line_details -- Structured output with types\n",
    "FROM\n",
    "  lineitem\n",
    "GROUP BY\n",
    "  1\n",
    "ORDER BY\n",
    "  l_orderkey\n",
    "LIMIT\n",
    "  10"
   ]
  },
  {
   "cell_type": "markdown",
   "id": "21cb198f-7551-4f14-8b0f-70a79ec2d2fe",
   "metadata": {},
   "source": [
    "```mermaid\n",
    "flowchart LR\n",
    "    subgraph A[\"LineItem Table (Input)\"]\n",
    "        A1[\"orderkey: 1 | linenumber: 1 | quantity: 17 | price: 26734.03\"]\n",
    "        A2[\"orderkey: 1 | linenumber: 2 | quantity: 36 | price: 57191.40\"]\n",
    "        A3[\"orderkey: 1 | linenumber: 3 | quantity: 8 | price: 14254.80\"]\n",
    "        A4[\"orderkey: 2 | linenumber: 1 | quantity: 38 | price: 39447.04\"]\n",
    "        A5[\"orderkey: 3 | linenumber: 1 | quantity: 45 | price: 47301.30\"]\n",
    "        A6[\"orderkey: 3 | linenumber: 2 | quantity: 49 | price: 69947.99\"]\n",
    "    end\n",
    "    \n",
    "    subgraph C[\"Result (Aggregated)\"]\n",
    "        C1[\"orderkey: 1<br/>line_numbers: [1,2,3,4,5,6]<br/>line_details: [struct(1,17,26734), struct(2,36,57191), ...]\"]\n",
    "        C2[\"orderkey: 2<br/>line_numbers: [1]<br/>line_details: [struct(1,38,39447)]\"]\n",
    "        C3[\"orderkey: 3<br/>line_numbers: [1,2,3,4,5,6]<br/>line_details: [struct(1,45,47301), struct(2,49,69947), ...]\"]\n",
    "    end\n",
    "    \n",
    "    A1 -.-> C1\n",
    "    A2 -.-> C1\n",
    "    A3 -.-> C1\n",
    "    A4 --> C2\n",
    "    A5 -.-> C3\n",
    "    A6 -.-> C3\n",
    "    \n",
    "    style A fill:#3498db,stroke:#2980b9,color:#fff\n",
    "    style C fill:#27ae60,stroke:#229954,color:#fff\n",
    "    \n",
    "    style A fill:#3498db,stroke:#2980b9,color:#fff\n",
    "    style C fill:#27ae60,stroke:#229954,color:#fff\n",
    "```"
   ]
  },
  {
   "cell_type": "code",
   "execution_count": null,
   "id": "041f166f-235e-4d33-81bf-c63294493418",
   "metadata": {
    "scrolled": true
   },
   "outputs": [],
   "source": [
    "%%sql\n",
    "WITH\n",
    "  order_details AS (\n",
    "    SELECT\n",
    "      l_orderkey,\n",
    "      collect_list (l_linenumber) AS line_number,\n",
    "      collect_list (\n",
    "        struct (\n",
    "          l_linenumber AS line_number,\n",
    "          l_quantity AS quantity,\n",
    "          l_extendedprice AS price\n",
    "        )\n",
    "      ) AS line_details\n",
    "    FROM\n",
    "      lineitem\n",
    "    GROUP BY\n",
    "      1\n",
    "  )\n",
    "SELECT\n",
    "  l_orderkey,\n",
    "  exploded_detail.line_number,\n",
    "  exploded_detail.quantity,\n",
    "  exploded_detail.price\n",
    "  -- , explode(line_number) as individual_line_number\n",
    "FROM\n",
    "  order_details LATERAL VIEW explode (line_details) t AS exploded_detail\n",
    "ORDER BY\n",
    "  l_orderkey\n",
    "LIMIT\n",
    "  20"
   ]
  },
  {
   "cell_type": "markdown",
   "id": "7bd74323-04e7-4e68-b1e1-cc38634abe53",
   "metadata": {},
   "source": [
    "#### Exercise ( 5 min )\n",
    "\n",
    "Try the above query by uncommenting the `explode(line_number)` line. What do you think is happening?"
   ]
  },
  {
   "cell_type": "markdown",
   "id": "5de90702-460d-4895-835f-c5406cb55212",
   "metadata": {},
   "source": [
    "### Group by variations for Excel-like reporting\n",
    "\n",
    "- ROLL UPs, CUBE, and GROUPING SETS are short-hand versions of GROUP BY variations typically used for reporting"
   ]
  },
  {
   "cell_type": "markdown",
   "id": "77515ea0-7cc3-415d-b300-e53729510bc3",
   "metadata": {},
   "source": [
    "| Operation Type | SQL Syntax | Equivalent GROUP BY Combinations |\n",
    "|---------------|------------|----------------------------------|\n",
    "| **CUBE** | `GROUP BY CUBE(region, category)` | `GROUP BY region, category`<br/>`UNION ALL`<br/>`GROUP BY region`<br/>`UNION ALL`<br/>`GROUP BY category`<br/>`UNION ALL`<br/>`GROUP BY ()` |\n",
    "| **ROLLUP** | `GROUP BY ROLLUP(region, category)` | `GROUP BY region, category`<br/>`UNION ALL`<br/>`GROUP BY region`<br/>`UNION ALL`<br/>`GROUP BY ()` |\n",
    "| **GROUPING SETS** | `GROUP BY GROUPING SETS((region, category), (region), ())` | `GROUP BY region, category`<br/>`UNION ALL`<br/>`GROUP BY region`<br/>`UNION ALL`<br/>`GROUP BY ()` |\n",
    "\n",
    "**Key Differences**\n",
    "\n",
    "- **CUBE**: All possible combinations (2^n sets)\n",
    "- **ROLLUP**: Hierarchical combinations (n+1 sets) based on the order of group by columns\n",
    "- **GROUPING SETS**: Custom-defined combinations (exactly what you specify)\n",
    "\n"
   ]
  },
  {
   "cell_type": "code",
   "execution_count": null,
   "id": "7b72f9e6-0fec-40e3-9f34-c739d3187009",
   "metadata": {},
   "outputs": [],
   "source": [
    "%%sql\n",
    "CREATE\n",
    "OR REPLACE TEMPORARY VIEW sales AS\n",
    "SELECT\n",
    "  'North' AS region,\n",
    "  'Electronics' AS category,\n",
    "  100 AS amount\n",
    "UNION ALL\n",
    "SELECT\n",
    "  'North' AS region,\n",
    "  'Clothing' AS category,\n",
    "  50 AS amount\n",
    "UNION ALL\n",
    "SELECT\n",
    "  'South' AS region,\n",
    "  'Electronics' AS category,\n",
    "  80 AS amount\n",
    "UNION ALL\n",
    "SELECT\n",
    "  'South' AS region,\n",
    "  'Clothing' AS category,\n",
    "  70 AS amount;"
   ]
  },
  {
   "cell_type": "code",
   "execution_count": null,
   "id": "71b7e493-ba1b-4cce-8cb2-ad399d09059d",
   "metadata": {},
   "outputs": [],
   "source": [
    "%%sql\n",
    "-- ROLLUP: Hierarchical aggregation (region -> category -> total)\n",
    "SELECT\n",
    "  region,\n",
    "  category,\n",
    "  SUM(amount) AS total_sales\n",
    "FROM\n",
    "  sales\n",
    "GROUP BY\n",
    "  ROLLUP (region, category)\n",
    "ORDER BY\n",
    "  region,\n",
    "  category;"
   ]
  },
  {
   "cell_type": "code",
   "execution_count": null,
   "id": "2360dcd0-743b-46dc-a05f-c204d56cec99",
   "metadata": {},
   "outputs": [],
   "source": [
    "%%sql\n",
    "-- CUBE: All possible combinations\n",
    "SELECT\n",
    "  region,\n",
    "  category,\n",
    "  SUM(amount) AS total_sales\n",
    "FROM\n",
    "  sales\n",
    "GROUP BY\n",
    "  CUBE (region, category)\n",
    "ORDER BY\n",
    "  region,\n",
    "  category;"
   ]
  },
  {
   "cell_type": "code",
   "execution_count": null,
   "id": "60b1c0c2-26c2-427f-b265-871292b38f63",
   "metadata": {},
   "outputs": [],
   "source": [
    "%%sql\n",
    "-- GROUPING SETS: Custom combinations\n",
    "SELECT\n",
    "  region,\n",
    "  category,\n",
    "  SUM(amount) AS total_sales\n",
    "FROM\n",
    "  sales\n",
    "GROUP BY\n",
    "  GROUPING SETS (\n",
    "    (region, category), -- detailed\n",
    "    (region), -- by region only\n",
    "    () -- grand total only\n",
    "  )\n",
    "ORDER BY\n",
    "  region,\n",
    "  category;"
   ]
  },
  {
   "cell_type": "markdown",
   "id": "b06d89dd-3c50-4884-9cdc-b900f83a8247",
   "metadata": {},
   "source": [
    "### Caveats when doing group bys: duplication, incorrect data types, additive/non-additive numbers, etc\n",
    "\n",
    "- Are you using 'Group by' to remove duplicates? This usually indicates a problem with your underlying data model\n",
    "\n",
    "- Ensure that the numbers you are aggregating are of the correct data types (e.g., a number stored as a string).\n",
    "\n",
    "- Be mindful of additive and non-additive numbers (e.g. percentages, distinct counts)"
   ]
  },
  {
   "cell_type": "markdown",
   "id": "3dee5063-c28b-4d15-a1be-2ed14daa7043",
   "metadata": {},
   "source": [
    "#### Exercise ( 5 min )\n",
    "\n",
    "Inspect the query below; what is wrong with the logic? \n",
    "\n",
    "How would you fix it?"
   ]
  },
  {
   "cell_type": "code",
   "execution_count": null,
   "id": "9fd065ae-6b01-46ff-bae0-97357f44cfdf",
   "metadata": {},
   "outputs": [],
   "source": [
    "%%sql\n",
    "-- CTE: Unique suppliers per day\n",
    "WITH\n",
    "  daily_suppliers AS (\n",
    "    SELECT\n",
    "      DATE (l_shipdate) AS ship_date,\n",
    "      COUNT(DISTINCT l_suppkey) AS daily_unique_suppliers\n",
    "    FROM\n",
    "      lineitem\n",
    "    GROUP BY\n",
    "      DATE (l_shipdate)\n",
    "  )\n",
    "SELECT\n",
    "  YEAR (d.ship_date) AS ship_year,\n",
    "  SUM(d.daily_unique_suppliers) AS yearly_total\n",
    "FROM\n",
    "  daily_suppliers d\n",
    "GROUP BY\n",
    "  YEAR (d.ship_date)\n",
    "ORDER BY\n",
    "  ship_year;"
   ]
  },
  {
   "cell_type": "code",
   "execution_count": null,
   "id": "bf60ea7f-4e2f-4825-8945-f64268e0021a",
   "metadata": {},
   "outputs": [],
   "source": [
    "%%sql\n",
    "-- Your query here"
   ]
  },
  {
   "cell_type": "markdown",
   "id": "3d3f5856-f869-4533-9a98-5d2f69c4aab6",
   "metadata": {},
   "source": [
    "## Recap\n",
    "\n",
    "We saw\n",
    "\n",
    "1. How to use joins to find differences in datasets\n",
    "    * Find data in a table that is not part of another table with `anti join`\n",
    "    * Find out if a table had data in another table `asof` a specific time with `asof join` (not available in Spark)\n",
    "    * Join results depend on referential integrity (aka `foreign key` relationships)\n",
    "    * Common data issues that create bad outputs when joining\n",
    "2. Using Group bys for validating assumptions about data, creating nested data structures, & Excel like reporting\n",
    "    * Check the distribution of dimensions (date, state, etc) to validate assumptions about your data\n",
    "    * Check unique key constraints\n",
    "    * Aggregation functions beyond standard aggregations\n",
    "    * Group by variations for Excel-like reporting\n",
    "    * Caveats to watch out for with group bys                                          "
   ]
  },
  {
   "cell_type": "markdown",
   "id": "2c425b6c-e925-4b9e-962f-664e2645ed38",
   "metadata": {},
   "source": [
    "## Checkout > **[Advanced Spark SQL for Data Engineers](https://josephmachado.podia.com/advanced-spark-sql-workshop-for-data-engineers)**\n",
    "## Next steps\n",
    "1. **[Feedback](https://form.typeform.com/to/f51flAI1)**"
   ]
  },
  {
   "cell_type": "markdown",
   "id": "0f3b53d7-0960-4116-afbb-714ea4b2c189",
   "metadata": {},
   "source": [
    "## Recommended reading\n",
    "\n",
    "1. [SQL for data engineers](https://www.startdataengineering.com/post/improve-sql-skills-de/)\n",
    "2. [SQL or Python for data processing](https://www.startdataengineering.com/post/sql-v-python/)\n",
    "3. [dbt tutorial](https://www.startdataengineering.com/post/dbt-data-build-tool-tutorial/)\n",
    "4. [Build a data project with step-by-step instructions](https://www.startdataengineering.com/post/de-proj-step-by-step/)\n"
   ]
  }
 ],
 "metadata": {
  "kernelspec": {
   "display_name": "Python 3 (ipykernel)",
   "language": "python",
   "name": "python3"
  },
  "language_info": {
   "codemirror_mode": {
    "name": "ipython",
    "version": 3
   },
   "file_extension": ".py",
   "mimetype": "text/x-python",
   "name": "python",
   "nbconvert_exporter": "python",
   "pygments_lexer": "ipython3",
   "version": "3.10.16"
  }
 },
 "nbformat": 4,
 "nbformat_minor": 5
}
