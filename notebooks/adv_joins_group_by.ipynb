{
 "cells": [
  {
   "cell_type": "code",
   "execution_count": null,
   "id": "98a80054-51f7-497e-a4b3-ffc9a9bcec47",
   "metadata": {
    "scrolled": true
   },
   "outputs": [],
   "source": [
    "%%bash\n",
    "python ./generate_data.py\n",
    "python ./run_ddl.py"
   ]
  },
  {
   "cell_type": "markdown",
   "id": "cf525926-2d36-436d-a01a-0ff4d2242188",
   "metadata": {},
   "source": [
    "**Prerequisites**:\n",
    "\n",
    "  1. [SQL Basics: Join and Group By basics](./basics.ipynb)"
   ]
  },
  {
   "cell_type": "markdown",
   "id": "3e1df8d3-1c86-4a2a-93dd-677940cc5948",
   "metadata": {},
   "source": [
    "## [Quick refresher] Facts & Dimensions\n",
    "\n",
    "1. `Fact` tables containing information about how dimensions interact with each other in real life. Example: An order fact is an interaction between a customer and a seller involving one or more products. E.g. `Lineitem` & `Orders`.\n",
    "2. `Dimension` tables store data for a business entity (e.g., customer, product, partner, etc). These tables describe the ‘who’ and ‘what’ types of questions. For example, which stores had the highest revenue yesterday? In this question, stores will be the dimension. E.g. `Customer`, `Supplier`\n",
    "\n",
    "The term analytical querying usually refers to aggregating numerical (spend, count, sum, avg) data from the fact table for specific dimension attribute(s) (e.g., name, nation, date, month) from the dimension tables.\n",
    "\n",
    "Some examples of analytical queries are\n",
    "1. Who are the top 10 suppliers (by totalprice) in the past year?\n",
    "2. What are the average sales per nation per year?\n",
    "3. How do customer market segments perform (sales) month-over-month?\n",
    "\n",
    "**Example**\n",
    "\n",
    "![Analytical query](./images/analytical_qry.png)"
   ]
  },
  {
   "cell_type": "code",
   "execution_count": 6,
   "id": "a6f66258-437c-4014-b687-02ade186569e",
   "metadata": {},
   "outputs": [],
   "source": [
    "# Add simple SQL demonstrating join & group by "
   ]
  },
  {
   "cell_type": "markdown",
   "id": "c8644127-0d35-49d9-be70-d8d8cb48644c",
   "metadata": {},
   "source": [
    "## Joins can be used to validate data and identify underlying data issues\n",
    "\n",
    "- While `joins` are typically used to combine tables, they can also be used to inspect data and get data diff.\n",
    "\n",
    "- When joining tables, there is usually one table called the `driver/base` table to which other tables are joined.\n",
    "\n",
    "### Find data in a table that is not part of another table with `anti join`\n",
    "\n",
    "- When you need to get rows that are in one table but not in another, use `anti join`\n",
    "\n",
    "- You can get the rows from the left table that does not have any matches from the right table\n",
    "    \n",
    "### Find data in a table that is closest in time to another table with `asof join`\n",
    "\n",
    "- When you need to get the row that is closest in time to the current row\n",
    "\n",
    "- Usually used when you need to get the \"latest\" price, or state from a fact table. Not really used to join dimensions.\n",
    "\n",
    "### Joins are used to validate referential integrity (aka are `foreign key` relationships valid)\n",
    "\n",
    "- In a data warehouse some tables are created sooner than others\n",
    "\n",
    "- When you join a quick table with a slow table you will loose data\n",
    "\n",
    "- For example, if your orders data arrives much quicker than customer data your joins will either produce nulls (left join) or not be included in the output (inner joins)\n",
    "\n",
    "- Usually an `UNKNOWN` catch all is used, you can also re-run the pipeline to reconcile when the slow data lands\n",
    "\n",
    "### Common data issues that create bad outputs when joining\n",
    "\n",
    "- Ensure that your table(s) have a single grain before joining them.\n",
    "\n",
    "- Handle slow and fast data joins based on use caser\n",
    "\n",
    "- Be careful if your join keys have NULLs, NULL != NULL\n",
    "                                \n",
    "- Be mindful of applying functions in join criteria, they can impact performance significantly"
   ]
  },
  {
   "cell_type": "markdown",
   "id": "6810ee05-3b13-4d23-94fb-f959a353abd9",
   "metadata": {},
   "source": [
    "## Group bys can be used for more than reporting\n",
    "\n",
    "- Quickly check distribution of dimensions (date, state, etc)\n",
    "\n",
    "- Check unique key constraints, most warehouse allow you to define PK, but don't enforce them\n",
    "\n",
    "### Aggregation functions beyond the standard count/min/max/avg/sum\n",
    "\n",
    "- Statistical agg: Functions like correlation, sampling, standard deviation, skew, etc\n",
    "\n",
    "- Collection agg: Functions to combine values into nested data types, e.g., array_agg, collect_set, etc\n",
    "\n",
    "- Approximation agg: Functions that are fast by sacrificing accuracy, e.g., approx_distinct, approx_most_frequent\n",
    "\n",
    "- Convenience agg: Functions that make common usages easier, e.g., count_if, bool_or, etc\n",
    "\n",
    "- ROLL UPs, CUBE, GROUPING SETS are short hand versions of GROUP BYs typically used for reporting\n",
    "\n",
    "### Gotchas when doing group bys: duplication, incorrect data types, additive/non-additive numbers, etc\n",
    "\n",
    "- Are you using Group by to remove duplicates, this usually indicates a problem with your underlying data model\n",
    "\n",
    "- Ensure that the numbers you are aggregating on are of the right data typs (e.g. number stored as string, .)\n",
    "\n",
    "- Be mindful of additive and non-additive numbers"
   ]
  },
  {
   "cell_type": "code",
   "execution_count": null,
   "id": "9ef88fcb-dc5c-4271-9fbb-69ede8741a08",
   "metadata": {},
   "outputs": [],
   "source": []
  }
 ],
 "metadata": {
  "kernelspec": {
   "display_name": "Python 3 (ipykernel)",
   "language": "python",
   "name": "python3"
  },
  "language_info": {
   "codemirror_mode": {
    "name": "ipython",
    "version": 3
   },
   "file_extension": ".py",
   "mimetype": "text/x-python",
   "name": "python",
   "nbconvert_exporter": "python",
   "pygments_lexer": "ipython3",
   "version": "3.10.16"
  }
 },
 "nbformat": 4,
 "nbformat_minor": 5
}
