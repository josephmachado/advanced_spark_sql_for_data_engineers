{
 "cells": [
  {
   "cell_type": "code",
   "execution_count": null,
   "id": "98a80054-51f7-497e-a4b3-ffc9a9bcec47",
   "metadata": {
    "scrolled": true
   },
   "outputs": [],
   "source": [
    "%%bash\n",
    "python ./generate_data.py\n",
    "python ./run_ddl.py"
   ]
  },
  {
   "cell_type": "code",
   "execution_count": null,
   "id": "96686b88-9083-46eb-9938-f517be0fab4f",
   "metadata": {
    "scrolled": true
   },
   "outputs": [],
   "source": [
    "!jupyter labextension install jupyterlab-mermaid"
   ]
  },
  {
   "cell_type": "markdown",
   "id": "cf525926-2d36-436d-a01a-0ff4d2242188",
   "metadata": {},
   "source": [
    "**Prerequisites**:\n",
    "\n",
    "  1. [SQL Basics: Join and Group By basics](./basics.ipynb)"
   ]
  },
  {
   "cell_type": "code",
   "execution_count": 7,
   "id": "fc5d04a7-bc0e-44fc-b8be-7d8e36c92dda",
   "metadata": {},
   "outputs": [
    {
     "data": {
      "text/html": [
       "\n",
       "            <div>\n",
       "                <p><b>SparkSession - in-memory</b></p>\n",
       "                \n",
       "        <div>\n",
       "            <p><b>SparkContext</b></p>\n",
       "\n",
       "            <p><a href=\"http://bba5d5649ef4:4041\">Spark UI</a></p>\n",
       "\n",
       "            <dl>\n",
       "              <dt>Version</dt>\n",
       "                <dd><code>v3.5.5</code></dd>\n",
       "              <dt>Master</dt>\n",
       "                <dd><code>local[*]</code></dd>\n",
       "              <dt>AppName</dt>\n",
       "                <dd><code>PySparkShell</code></dd>\n",
       "            </dl>\n",
       "        </div>\n",
       "        \n",
       "            </div>\n",
       "        "
      ],
      "text/plain": [
       "<pyspark.sql.session.SparkSession at 0x73d4ed9c5810>"
      ]
     },
     "execution_count": 7,
     "metadata": {},
     "output_type": "execute_result"
    }
   ],
   "source": [
    "spark"
   ]
  },
  {
   "cell_type": "code",
   "execution_count": 9,
   "id": "32129ccc-b2a7-4119-9acd-49cf976bc3a3",
   "metadata": {},
   "outputs": [
    {
     "data": {
      "text/html": [
       "<table>\n",
       "    <thead>\n",
       "        <tr>\n",
       "        </tr>\n",
       "    </thead>\n",
       "    <tbody>\n",
       "    </tbody>\n",
       "</table>"
      ],
      "text/plain": [
       "++\n",
       "||\n",
       "++\n",
       "++"
      ]
     },
     "execution_count": 9,
     "metadata": {},
     "output_type": "execute_result"
    }
   ],
   "source": [
    "%%sql\n",
    "use prod.db"
   ]
  },
  {
   "cell_type": "markdown",
   "id": "3e1df8d3-1c86-4a2a-93dd-677940cc5948",
   "metadata": {},
   "source": [
    "## [Quick refresher] Facts & Dimensions\n",
    "\n",
    "1. `Fact` tables containing information about how dimensions interact with each other in real life. Example: An order fact is an interaction between a customer and a seller involving one or more products. E.g. `Lineitem` & `Orders`.\n",
    "2. `Dimension` tables store data for a business entity (e.g., customer, product, partner, etc). These tables describe the ‘who’ and ‘what’ types of questions. For example, which stores had the highest revenue yesterday? In this question, stores will be the dimension. E.g. `Customer`, `Supplier`\n",
    "\n",
    "The term analytical querying usually refers to aggregating numerical (spend, count, sum, avg) data from the fact table for specific dimension attribute(s) (e.g., name, nation, date, month) from the dimension tables.\n",
    "\n",
    "Some examples of analytical queries are\n",
    "1. Who are the top 10 suppliers (by totalprice) in the past year?\n",
    "2. What are the average sales per nation per year?\n",
    "3. How do customer market segments perform (sales) month-over-month?\n",
    "\n",
    "**Example**\n",
    "\n",
    "![Analytical query](./images/analytical_qry.png)"
   ]
  },
  {
   "cell_type": "code",
   "execution_count": 6,
   "id": "a6f66258-437c-4014-b687-02ade186569e",
   "metadata": {},
   "outputs": [],
   "source": [
    "# Add simple SQL demonstrating join & group by "
   ]
  },
  {
   "cell_type": "markdown",
   "id": "c8644127-0d35-49d9-be70-d8d8cb48644c",
   "metadata": {},
   "source": [
    "## Joins can be used to validate data and identify underlying data issues\n",
    "\n",
    "- While `joins` are typically used to combine tables, they can also be used to inspect data and get data diff.\n",
    "\n",
    "- When joining tables, there is usually one table called the `driver/base` table to which other tables are joined.\n"
   ]
  },
  {
   "cell_type": "markdown",
   "id": "81e25e16-f16f-466d-a3b6-0c999c7c59f4",
   "metadata": {},
   "source": [
    "### Find data in a table that is not part of another table with `anti join`\n",
    "\n",
    "- When you need to get rows that are in one table but not in another, use `anti join`\n",
    "\n",
    "- You can get the rows from the left table that does not have any matches from the right table\n"
   ]
  },
  {
   "cell_type": "code",
   "execution_count": 15,
   "id": "fb4b60e6-f138-4af8-a6dc-943b699a1f7e",
   "metadata": {},
   "outputs": [
    {
     "data": {
      "text/html": [
       "<table>\n",
       "    <thead>\n",
       "        <tr>\n",
       "            <th>o_orderkey</th>\n",
       "            <th>o_custkey</th>\n",
       "        </tr>\n",
       "    </thead>\n",
       "    <tbody>\n",
       "        <tr>\n",
       "            <td>2</td>\n",
       "            <td>1002</td>\n",
       "        </tr>\n",
       "        <tr>\n",
       "            <td>4</td>\n",
       "            <td>1004</td>\n",
       "        </tr>\n",
       "    </tbody>\n",
       "</table>"
      ],
      "text/plain": [
       "+------------+-----------+\n",
       "| o_orderkey | o_custkey |\n",
       "+------------+-----------+\n",
       "|          2 |      1002 |\n",
       "|          4 |      1004 |\n",
       "+------------+-----------+"
      ]
     },
     "execution_count": 15,
     "metadata": {},
     "output_type": "execute_result"
    }
   ],
   "source": [
    "%%sql\n",
    "WITH orders AS (\n",
    " SELECT 001 as o_orderkey, 1001 as o_custkey\n",
    " UNION ALL\n",
    " SELECT 002 as o_orderkey, 1002 as o_custkey\n",
    " UNION ALL\n",
    " SELECT 003 as o_orderkey, 1003 as o_custkey\n",
    " UNION ALL\n",
    " SELECT 004 as o_orderkey, 1004 as o_custkey\n",
    " UNION ALL\n",
    " SELECT 005 as o_orderkey, 1005 as o_custkey\n",
    "),\n",
    "lineitem AS (\n",
    " SELECT 001 as l_orderkey, 2001 as l_partkey\n",
    " UNION ALL\n",
    " SELECT 003 as l_orderkey, 2003 as l_partkey\n",
    " UNION ALL\n",
    " SELECT 005 as l_orderkey, 2004 as l_partkey\n",
    ")\n",
    "SELECT o.*\n",
    "FROM orders o\n",
    "ANTI JOIN lineitem l ON o.o_orderkey = l.l_orderkey\n",
    "-- Alternative approach; when you don't have anti join\n",
    "-- LEFT JOIN lineitem l ON o.o_orderkey = l.l_orderkey WHERE l.l_orderkey IS NULL"
   ]
  },
  {
   "cell_type": "markdown",
   "id": "913188a7-4103-48c8-b410-53c3dcb41475",
   "metadata": {},
   "source": [
    "```mermaid\n",
    "flowchart LR\n",
    "    subgraph A[\"Orders Table\"]\n",
    "        A1[\"`**o_orderkey | o_custkey**\n",
    "        001 | 1001\n",
    "        002 | 1002\n",
    "        003 | 1003\n",
    "        004 | 1004\n",
    "        005 | 1005`\"]\n",
    "    end\n",
    "    \n",
    "    subgraph B[\"LineItem Table\"]\n",
    "        B1[\"`**l_orderkey | l_partkey**\n",
    "        001 | 2001\n",
    "        003 | 2003\n",
    "        005 | 2004`\"]\n",
    "    end\n",
    "    \n",
    "    subgraph C[\"Result\"]\n",
    "        C1[\"`**o_orderkey | o_custkey**\n",
    "        002 | 1002\n",
    "        004 | 1004`\"]\n",
    "    end\n",
    "    \n",
    "    A1 -->|ANTI JOIN| C1\n",
    "    B1 -.->|\"ON o_orderkey = l_orderkey\"| C1\n",
    "    \n",
    "    style A fill:#3498db,stroke:#2980b9,color:#fff\n",
    "    style B fill:#27ae60,stroke:#229954,color:#fff\n",
    "    style C fill:#e74c3c,stroke:#c0392b,color:#fff\n",
    "```"
   ]
  },
  {
   "cell_type": "markdown",
   "id": "b2915962-7394-458c-bac5-48f6cf8ab91e",
   "metadata": {},
   "source": [
    "    \n",
    "### Find data in a table that is closest in time to another table with `asof join`\n",
    "\n",
    "- When you need to get the row that is closest in time to the current row\n",
    "\n",
    "- Usually used when you need to get the \"latest\" price, or state from a fact table. Not really used to join dimensions.\n"
   ]
  },
  {
   "cell_type": "code",
   "execution_count": 18,
   "id": "9addb601-c88c-4f24-9480-d6e8ed8176ee",
   "metadata": {},
   "outputs": [
    {
     "data": {
      "text/html": [
       "<table>\n",
       "    <thead>\n",
       "        <tr>\n",
       "            <th>symbol</th>\n",
       "            <th>company</th>\n",
       "            <th>listing_date</th>\n",
       "            <th>price</th>\n",
       "            <th>price_date</th>\n",
       "        </tr>\n",
       "    </thead>\n",
       "    <tbody>\n",
       "        <tr>\n",
       "            <td>AAPL</td>\n",
       "            <td>Apple Inc.</td>\n",
       "            <td>2024-01-01</td>\n",
       "            <td>155.00</td>\n",
       "            <td>2024-01-20</td>\n",
       "        </tr>\n",
       "        <tr>\n",
       "            <td>GOOGL</td>\n",
       "            <td>Alphabet Inc.</td>\n",
       "            <td>2024-01-15</td>\n",
       "            <td>2850.00</td>\n",
       "            <td>2024-02-05</td>\n",
       "        </tr>\n",
       "        <tr>\n",
       "            <td>MSFT</td>\n",
       "            <td>Microsoft Corp.</td>\n",
       "            <td>2024-02-01</td>\n",
       "            <td>400.00</td>\n",
       "            <td>2024-02-10</td>\n",
       "        </tr>\n",
       "    </tbody>\n",
       "</table>"
      ],
      "text/plain": [
       "+--------+-----------------+--------------+---------+------------+\n",
       "| symbol |         company | listing_date |   price | price_date |\n",
       "+--------+-----------------+--------------+---------+------------+\n",
       "|   AAPL |      Apple Inc. |   2024-01-01 |  155.00 | 2024-01-20 |\n",
       "|  GOOGL |   Alphabet Inc. |   2024-01-15 | 2850.00 | 2024-02-05 |\n",
       "|   MSFT | Microsoft Corp. |   2024-02-01 |  400.00 | 2024-02-10 |\n",
       "+--------+-----------------+--------------+---------+------------+"
      ]
     },
     "execution_count": 18,
     "metadata": {},
     "output_type": "execute_result"
    }
   ],
   "source": [
    "%%sql\n",
    "WITH stock AS (\n",
    " SELECT 'AAPL' as symbol, 'Apple Inc.' as company, '2024-01-01' as listing_date\n",
    " UNION ALL\n",
    " SELECT 'GOOGL' as symbol, 'Alphabet Inc.' as company, '2024-01-15' as listing_date\n",
    " UNION ALL\n",
    " SELECT 'MSFT' as symbol, 'Microsoft Corp.' as company, '2024-02-01' as listing_date\n",
    "),\n",
    "price_tracker AS (\n",
    " SELECT 'AAPL' as symbol, 150.00 as price, '2024-01-10' as price_date\n",
    " UNION ALL\n",
    " SELECT 'AAPL' as symbol, 155.00 as price, '2024-01-20' as price_date -- this is the latest price for apple and will be picked\n",
    " UNION ALL\n",
    " SELECT 'GOOGL' as symbol, 2800.00 as price, '2024-01-25' as price_date\n",
    " UNION ALL\n",
    " SELECT 'GOOGL' as symbol, 2850.00 as price, '2024-02-05' as price_date -- this is the latest price for google and will be picked\n",
    " UNION ALL\n",
    " SELECT 'MSFT' as symbol, 400.00 as price, '2024-02-10' as price_date -- this is the latest price for microsoft and will be picked\n",
    "),\n",
    "ranked_prices AS (\n",
    "  SELECT s.symbol, s.company, s.listing_date, p.price, p.price_date,\n",
    "         ROW_NUMBER() OVER (PARTITION BY s.symbol, s.listing_date \n",
    "                           ORDER BY p.price_date DESC) as rn\n",
    "  FROM stock s\n",
    "  JOIN price_tracker p ON s.symbol = p.symbol \n",
    "  WHERE s.listing_date <= p.price_date\n",
    ")\n",
    "SELECT symbol, company, listing_date, price, price_date\n",
    "FROM ranked_prices\n",
    "WHERE rn = 1"
   ]
  },
  {
   "cell_type": "markdown",
   "id": "aa4d832c-92b3-4cb2-850b-159ab770189a",
   "metadata": {},
   "source": [
    "```mermaid\n",
    "flowchart LR\n",
    "    subgraph A[\"Stock Table\"]\n",
    "        A1[\"AAPL | Apple Inc. | 2024-01-01\"]\n",
    "        A2[\"GOOGL | Alphabet Inc. | 2024-01-15\"]\n",
    "        A3[\"MSFT | Microsoft Corp. | 2024-02-01\"]\n",
    "    end\n",
    "    \n",
    "    subgraph B[\"Price Tracker Table\"]\n",
    "        B1[\"AAPL | 150.00 | 2024-01-10\"]\n",
    "        B2[\"AAPL | 155.00 | 2024-01-20\"]\n",
    "        B3[\"GOOGL | 2800.00 | 2024-01-25\"]\n",
    "        B4[\"GOOGL | 2850.00 | 2024-02-05\"]\n",
    "        B5[\"MSFT | 400.00 | 2024-02-10\"]\n",
    "    end\n",
    "    \n",
    "    subgraph C[\"Result\"]\n",
    "        C1[\"AAPL | Apple Inc. | 155.00 | 2024-01-20\"]\n",
    "        C2[\"GOOGL | Alphabet Inc. | 2850.00 | 2024-02-05\"]\n",
    "        C3[\"MSFT | Microsoft Corp. | 400.00 | 2024-02-10\"]\n",
    "    end\n",
    "    \n",
    "    A1 -.->|matches| B1\n",
    "    A1 -->|latest match| B2\n",
    "    A2 -.->|matches| B3\n",
    "    A2 -->|latest match| B4\n",
    "    A3 -->|matches| B5\n",
    "    \n",
    "    B2 -->|result| C1\n",
    "    B4 -->|result| C2\n",
    "    B5 -->|result| C3\n",
    "    \n",
    "    style A fill:#3498db,stroke:#2980b9,color:#fff\n",
    "    style B fill:#27ae60,stroke:#229954,color:#fff\n",
    "    style C fill:#e74c3c,stroke:#c0392b,color:#fff\n",
    "```"
   ]
  },
  {
   "cell_type": "markdown",
   "id": "530f91d8-cc6b-4575-846a-c6b04aef5f0e",
   "metadata": {},
   "source": [
    "**Exercise: Scenario 10 min**\n",
    "\n",
    "1. Assume you have to join orders (loaded into warehouse in 5 minutes) and customer (loaded into the warehouse every 6h) table; how do you ensure that the results of your join is **complete**? Hint: Start by defining what complete means.\n",
    "2. What will you do if you find the table(s) are incomplete?"
   ]
  },
  {
   "cell_type": "markdown",
   "id": "4c88957e-9381-4a00-ac61-63302aecb402",
   "metadata": {},
   "source": [
    "\n",
    "### Joins are used to validate referential integrity (aka are `foreign key` relationships valid)\n",
    "\n",
    "- In a data warehouse some tables are created sooner than others\n",
    "\n",
    "- When you join a quick table with a slow table you will loose data\n",
    "\n",
    "- For example, if your orders data arrives much quicker than customer data your joins will either produce nulls (left join) or not be included in the output (inner joins)\n",
    "\n",
    "- Usually an `UNKNOWN` catch all is used, you can also re-run the pipeline to reconcile when the slow data lands\n"
   ]
  },
  {
   "cell_type": "code",
   "execution_count": 29,
   "id": "da6a5a87-d40d-48d7-a1af-3f9203ea438d",
   "metadata": {},
   "outputs": [
    {
     "data": {
      "text/html": [
       "<table>\n",
       "    <thead>\n",
       "        <tr>\n",
       "            <th>o_orderkey</th>\n",
       "            <th>o_custkey</th>\n",
       "            <th>o_orderstatus</th>\n",
       "            <th>o_totalprice</th>\n",
       "            <th>o_orderdate</th>\n",
       "            <th>o_orderpriority</th>\n",
       "            <th>o_clerk</th>\n",
       "            <th>o_shippriority</th>\n",
       "            <th>o_comment</th>\n",
       "            <th>c_custkey</th>\n",
       "            <th>c_name</th>\n",
       "            <th>c_address</th>\n",
       "            <th>c_nationkey</th>\n",
       "            <th>c_phone</th>\n",
       "            <th>c_acctbal</th>\n",
       "            <th>c_mktsegment</th>\n",
       "            <th>c_comment</th>\n",
       "        </tr>\n",
       "    </thead>\n",
       "    <tbody>\n",
       "        <tr>\n",
       "            <td>9999999</td>\n",
       "            <td>8888888</td>\n",
       "            <td>O</td>\n",
       "            <td>1500000.00</td>\n",
       "            <td>2024-06-14</td>\n",
       "            <td>1-URGENT</td>\n",
       "            <td>Clerk#000000999</td>\n",
       "            <td>0</td>\n",
       "            <td>New order for non-existent customer</td>\n",
       "            <td>None</td>\n",
       "            <td>None</td>\n",
       "            <td>None</td>\n",
       "            <td>None</td>\n",
       "            <td>None</td>\n",
       "            <td>None</td>\n",
       "            <td>None</td>\n",
       "            <td>None</td>\n",
       "        </tr>\n",
       "    </tbody>\n",
       "</table>"
      ],
      "text/plain": [
       "+------------+-----------+---------------+--------------+-------------+-----------------+-----------------+----------------+-------------------------------------+-----------+--------+-----------+-------------+---------+-----------+--------------+-----------+\n",
       "| o_orderkey | o_custkey | o_orderstatus | o_totalprice | o_orderdate | o_orderpriority |         o_clerk | o_shippriority |                           o_comment | c_custkey | c_name | c_address | c_nationkey | c_phone | c_acctbal | c_mktsegment | c_comment |\n",
       "+------------+-----------+---------------+--------------+-------------+-----------------+-----------------+----------------+-------------------------------------+-----------+--------+-----------+-------------+---------+-----------+--------------+-----------+\n",
       "|    9999999 |   8888888 |             O |   1500000.00 |  2024-06-14 |        1-URGENT | Clerk#000000999 |              0 | New order for non-existent customer |      None |   None |      None |        None |    None |      None |         None |      None |\n",
       "+------------+-----------+---------------+--------------+-------------+-----------------+-----------------+----------------+-------------------------------------+-----------+--------+-----------+-------------+---------+-----------+--------------+-----------+"
      ]
     },
     "execution_count": 29,
     "metadata": {},
     "output_type": "execute_result"
    }
   ],
   "source": [
    "%%sql\n",
    "WITH latest_orders AS (\n",
    " SELECT * FROM orders\n",
    " UNION ALL\n",
    " SELECT \n",
    "   9999999 as o_orderkey,\n",
    "   8888888 as o_custkey,\n",
    "   'O' as o_orderstatus,\n",
    "   1500000.00 as o_totalprice,\n",
    "   '2024-06-14' as o_orderdate,\n",
    "   '1-URGENT' as o_orderpriority,\n",
    "   'Clerk#000000999' as o_clerk,\n",
    "   0 as o_shippriority,\n",
    "   'New order for non-existent customer' as o_comment\n",
    ")\n",
    "SELECT o.*\n",
    "    , c.* -- What would you do with these NULLs?\n",
    "FROM latest_orders o\n",
    "LEFT JOIN customer c ON o.o_custkey = c.c_custkey WHERE c.c_custkey IS NULL"
   ]
  },
  {
   "cell_type": "markdown",
   "id": "e5eca369-83a0-4f7b-9e7d-d14d923eb4b4",
   "metadata": {},
   "source": [
    "\n",
    "### Common data issues that create bad outputs when joining\n",
    "\n",
    "- Ensure that your table(s) have a single grain before joining them.\n",
    "\n",
    "- Handle slow and fast data joins based on use case\n",
    "\n",
    "- Be careful if your join keys have NULLs, NULL != NULL\n",
    "                                \n",
    "- Be mindful of applying functions in join criteria, they can impact performance significantly"
   ]
  },
  {
   "cell_type": "markdown",
   "id": "6810ee05-3b13-4d23-94fb-f959a353abd9",
   "metadata": {},
   "source": [
    "## Group bys can be used for more than reporting\n",
    "\n",
    "- Quickly check distribution of dimensions (date, state, etc)\n",
    "\n",
    "- Check unique key constraints, most warehouse allow you to define PK, but don't enforce them\n",
    "\n"
   ]
  },
  {
   "cell_type": "code",
   "execution_count": 39,
   "id": "d3c92da2-604b-4c48-bdf8-765d7faac8b5",
   "metadata": {},
   "outputs": [
    {
     "data": {
      "text/html": [
       "<table>\n",
       "    <thead>\n",
       "        <tr>\n",
       "            <th>nation_name</th>\n",
       "            <th>num_customers</th>\n",
       "        </tr>\n",
       "    </thead>\n",
       "    <tbody>\n",
       "        <tr>\n",
       "            <td>CHINA</td>\n",
       "            <td>3088</td>\n",
       "        </tr>\n",
       "        <tr>\n",
       "            <td>INDONESIA</td>\n",
       "            <td>3085</td>\n",
       "        </tr>\n",
       "        <tr>\n",
       "            <td>CANADA</td>\n",
       "            <td>3049</td>\n",
       "        </tr>\n",
       "        <tr>\n",
       "            <td>MOZAMBIQUE</td>\n",
       "            <td>3048</td>\n",
       "        </tr>\n",
       "        <tr>\n",
       "            <td>UNITED STATES</td>\n",
       "            <td>3046</td>\n",
       "        </tr>\n",
       "        <tr>\n",
       "            <td>KENYA</td>\n",
       "            <td>3045</td>\n",
       "        </tr>\n",
       "        <tr>\n",
       "            <td>IRAQ</td>\n",
       "            <td>3026</td>\n",
       "        </tr>\n",
       "        <tr>\n",
       "            <td>ROMANIA</td>\n",
       "            <td>3024</td>\n",
       "        </tr>\n",
       "        <tr>\n",
       "            <td>EGYPT</td>\n",
       "            <td>3018</td>\n",
       "        </tr>\n",
       "        <tr>\n",
       "            <td>RUSSIA</td>\n",
       "            <td>3015</td>\n",
       "        </tr>\n",
       "    </tbody>\n",
       "</table>"
      ],
      "text/plain": [
       "+---------------+---------------+\n",
       "|   nation_name | num_customers |\n",
       "+---------------+---------------+\n",
       "|         CHINA |          3088 |\n",
       "|     INDONESIA |          3085 |\n",
       "|        CANADA |          3049 |\n",
       "|    MOZAMBIQUE |          3048 |\n",
       "| UNITED STATES |          3046 |\n",
       "|         KENYA |          3045 |\n",
       "|          IRAQ |          3026 |\n",
       "|       ROMANIA |          3024 |\n",
       "|         EGYPT |          3018 |\n",
       "|        RUSSIA |          3015 |\n",
       "+---------------+---------------+"
      ]
     },
     "execution_count": 39,
     "metadata": {},
     "output_type": "execute_result"
    }
   ],
   "source": [
    "%%sql\n",
    "select n.n_name as nation_name\n",
    "    , count(*) as num_customers\n",
    "    from customer c\n",
    "    left join nation n \n",
    "    on c.c_nationkey = n.n_nationkey\n",
    "group by n.n_name\n",
    "order by num_customers desc\n",
    "limit 10"
   ]
  },
  {
   "cell_type": "markdown",
   "id": "e26db404-fee3-4e31-929c-c14d9fc62a75",
   "metadata": {},
   "source": [
    "**Question**: Do you think the data is representative of real world from the customer numbers?\n",
    "\n",
    "The above results don't seem to make sense, as we cannot generally expect orders from `china` and other countries be around the similar number. This would raise red flags in a real life scenario.\n",
    "\n",
    "**However** we use a tool that uses normal distribution to create fake data."
   ]
  },
  {
   "cell_type": "markdown",
   "id": "cc5e9d6a-73c4-4196-a4ec-f18ad3dbf255",
   "metadata": {},
   "source": [
    "**Question** How would you use `group by` to check that the c_custkey column in the customer table is unique?\\"
   ]
  },
  {
   "cell_type": "code",
   "execution_count": 40,
   "id": "41d29b4f-a92f-4cd7-82ca-413acfa3e0ec",
   "metadata": {},
   "outputs": [
    {
     "data": {
      "text/html": [
       "<table>\n",
       "    <thead>\n",
       "        <tr>\n",
       "            <th>c_custkey</th>\n",
       "            <th>cnt</th>\n",
       "        </tr>\n",
       "    </thead>\n",
       "    <tbody>\n",
       "    </tbody>\n",
       "</table>"
      ],
      "text/plain": [
       "+-----------+-----+\n",
       "| c_custkey | cnt |\n",
       "+-----------+-----+\n",
       "+-----------+-----+"
      ]
     },
     "execution_count": 40,
     "metadata": {},
     "output_type": "execute_result"
    }
   ],
   "source": [
    "%%sql\n",
    "select c_custkey\n",
    ", count(*) as cnt\n",
    "from customer \n",
    "group by 1\n",
    "having cnt > 1\n",
    "limit 5"
   ]
  },
  {
   "cell_type": "markdown",
   "id": "fd4e0979-4468-4e99-8bc6-88651ad2a52f",
   "metadata": {},
   "source": [
    "### Aggregation functions beyond the standard count/min/max/avg/sum\n",
    "\n",
    "- Statistical agg: Functions like correlation, sampling, standard deviation, skew, etc\n",
    "\n",
    "- Collection agg: Functions to combine values into nested data types, e.g., array_agg, collect_set, etc\n",
    "\n",
    "- Approximation agg: Functions that are fast by sacrificing accuracy, e.g., approx_distinct, approx_most_frequent\n",
    "\n",
    "- Convenience agg: Functions that make common usages easier, e.g., count_if, bool_or, etc\n",
    "\n",
    "- ROLL UPs, CUBE, GROUPING SETS are short hand versions of GROUP BYs typically used for reporting\n",
    "\n",
    "### Gotchas when doing group bys: duplication, incorrect data types, additive/non-additive numbers, etc\n",
    "\n",
    "- Are you using Group by to remove duplicates, this usually indicates a problem with your underlying data model\n",
    "\n",
    "- Ensure that the numbers you are aggregating on are of the right data typs (e.g. number stored as string, .)\n",
    "\n",
    "- Be mindful of additive and non-additive numbers"
   ]
  },
  {
   "cell_type": "code",
   "execution_count": null,
   "id": "dcb91ec3-277f-4469-9909-744850b07777",
   "metadata": {},
   "outputs": [],
   "source": []
  }
 ],
 "metadata": {
  "kernelspec": {
   "display_name": "Python 3 (ipykernel)",
   "language": "python",
   "name": "python3"
  },
  "language_info": {
   "codemirror_mode": {
    "name": "ipython",
    "version": 3
   },
   "file_extension": ".py",
   "mimetype": "text/x-python",
   "name": "python",
   "nbconvert_exporter": "python",
   "pygments_lexer": "ipython3",
   "version": "3.10.16"
  }
 },
 "nbformat": 4,
 "nbformat_minor": 5
}
