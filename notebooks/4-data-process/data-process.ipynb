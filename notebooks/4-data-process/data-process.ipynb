{
 "cells": [
  {
   "cell_type": "markdown",
   "id": "933e9051-0439-4904-99fe-5defc7c6c193",
   "metadata": {},
   "source": [
    "# Data process"
   ]
  },
  {
   "cell_type": "markdown",
   "id": "20d8fb9b-93e1-4869-bf3f-82c231a981c6",
   "metadata": {},
   "source": [
    "## Narrow and wide transformations"
   ]
  },
  {
   "cell_type": "markdown",
   "id": "b1a9c9a1-78c4-4f83-977f-d914696228d2",
   "metadata": {},
   "source": [
    "## Shuffle"
   ]
  },
  {
   "cell_type": "markdown",
   "id": "23d1bd36-1605-4fdd-b9c2-829f58946b46",
   "metadata": {},
   "source": [
    "## Join strategies"
   ]
  },
  {
   "cell_type": "markdown",
   "id": "4dd91802-5899-4402-9516-084a7540d394",
   "metadata": {},
   "source": [
    "## Check DAG"
   ]
  },
  {
   "cell_type": "markdown",
   "id": "37a8a3fc-0146-459f-86fe-109bb5ff12ac",
   "metadata": {},
   "source": [
    "## Don't loop, think in sets"
   ]
  },
  {
   "cell_type": "markdown",
   "id": "068dd09c-28e5-4aae-aef0-c7a99fab4566",
   "metadata": {},
   "source": [
    "## Read multiple appropriately sized files"
   ]
  },
  {
   "cell_type": "markdown",
   "id": "643dfa84-1511-491f-9424-7f1cbdb39463",
   "metadata": {},
   "source": [
    "## Cache, Persist & checkpoint"
   ]
  },
  {
   "cell_type": "markdown",
   "id": "8a669bc0-ee34-4380-9d30-a9b1246130c6",
   "metadata": {},
   "source": [
    "## Distribute data for easier downstream use"
   ]
  },
  {
   "cell_type": "markdown",
   "id": "4b11ed5f-d397-48af-afc6-2547612cefe6",
   "metadata": {},
   "source": []
  }
 ],
 "metadata": {
  "kernelspec": {
   "display_name": "Python 3 (ipykernel)",
   "language": "python",
   "name": "python3"
  },
  "language_info": {
   "codemirror_mode": {
    "name": "ipython",
    "version": 3
   },
   "file_extension": ".py",
   "mimetype": "text/x-python",
   "name": "python",
   "nbconvert_exporter": "python",
   "pygments_lexer": "ipython3",
   "version": "3.10.16"
  }
 },
 "nbformat": 4,
 "nbformat_minor": 5
}
