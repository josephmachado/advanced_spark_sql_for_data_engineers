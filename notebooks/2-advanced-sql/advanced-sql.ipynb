{
 "cells": [
  {
   "cell_type": "markdown",
   "id": "9f24f581-6049-4531-acd9-5b41547e4540",
   "metadata": {},
   "source": [
    "# Advanced SQL"
   ]
  },
  {
   "cell_type": "markdown",
   "id": "e2db3f06-7fe8-4619-87ab-1fefcb09ce2f",
   "metadata": {},
   "source": [
    "## Window"
   ]
  },
  {
   "cell_type": "markdown",
   "id": "3579c2b2-bc34-4a6b-9ea9-c44471e76113",
   "metadata": {},
   "source": [
    "## Merge into"
   ]
  },
  {
   "cell_type": "markdown",
   "id": "340369a6-e66e-4d20-93cc-d41563cf25c3",
   "metadata": {},
   "source": [
    "## CTEs"
   ]
  },
  {
   "cell_type": "markdown",
   "id": "e1de3aad-d372-4c7a-9369-59221714ad4b",
   "metadata": {},
   "source": [
    "## Data diffs"
   ]
  },
  {
   "cell_type": "markdown",
   "id": "6123af0c-e122-4908-8643-344f9c884d9f",
   "metadata": {},
   "source": [
    "## Bitmaps for unique counts"
   ]
  },
  {
   "cell_type": "markdown",
   "id": "a62e5713-74f1-4ce5-a312-71688a8c0a70",
   "metadata": {},
   "source": [
    "## Approximate functions"
   ]
  },
  {
   "cell_type": "markdown",
   "id": "3e6c8f13-0573-4353-bbe9-88111a4bdffa",
   "metadata": {},
   "source": [
    "## Nested data structures"
   ]
  }
 ],
 "metadata": {
  "kernelspec": {
   "display_name": "Python 3 (ipykernel)",
   "language": "python",
   "name": "python3"
  },
  "language_info": {
   "codemirror_mode": {
    "name": "ipython",
    "version": 3
   },
   "file_extension": ".py",
   "mimetype": "text/x-python",
   "name": "python",
   "nbconvert_exporter": "python",
   "pygments_lexer": "ipython3",
   "version": "3.10.16"
  }
 },
 "nbformat": 4,
 "nbformat_minor": 5
}
