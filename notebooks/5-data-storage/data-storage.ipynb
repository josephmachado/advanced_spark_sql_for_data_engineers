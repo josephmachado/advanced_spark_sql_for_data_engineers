{
 "cells": [
  {
   "cell_type": "markdown",
   "id": "72b5f8ab-f914-4a9d-a19e-a1a599274ad9",
   "metadata": {},
   "source": [
    "# Data storage\n"
   ]
  },
  {
   "cell_type": "markdown",
   "id": "83d78596-f7c4-4527-bbc6-19e3ad58a8ea",
   "metadata": {},
   "source": [
    "## How is large data stored in object storage"
   ]
  },
  {
   "cell_type": "markdown",
   "id": "fe0a7075-86c3-4cce-a6ae-05a5cbb26e92",
   "metadata": {},
   "source": [
    "## Data locality and how it affects distributed data processing"
   ]
  },
  {
   "cell_type": "markdown",
   "id": "ad134523-7136-4b67-8131-04c4f88ba470",
   "metadata": {},
   "source": [
    "## Partition"
   ]
  },
  {
   "cell_type": "markdown",
   "id": "5c6e1d4f-9f20-43d5-b3dd-21a2ccc38a4a",
   "metadata": {},
   "source": [
    "## Clustering/Bucketing"
   ]
  },
  {
   "cell_type": "markdown",
   "id": "27d2d060-f50a-4b62-817b-0286d93e499a",
   "metadata": {},
   "source": [
    "## Sorting"
   ]
  },
  {
   "cell_type": "markdown",
   "id": "c59d5221-2dfa-4335-9ee5-30db812a63b2",
   "metadata": {},
   "source": [
    "## File format: Parquet & ORC"
   ]
  },
  {
   "cell_type": "markdown",
   "id": "7362c971-891a-4841-95c0-e83363b2540d",
   "metadata": {},
   "source": [
    "## Compression"
   ]
  },
  {
   "cell_type": "markdown",
   "id": "0848f9ac-8e3c-4281-9a6e-e42cb67b26fc",
   "metadata": {},
   "source": [
    "## Table format"
   ]
  },
  {
   "cell_type": "markdown",
   "id": "c2e02f93-c562-49e8-b654-cd9962b322a0",
   "metadata": {},
   "source": [
    "## Schema managements"
   ]
  },
  {
   "cell_type": "markdown",
   "id": "1803a08a-7758-40ac-bf13-b276f2af2999",
   "metadata": {},
   "source": [
    "## Appropriate file sizes"
   ]
  },
  {
   "cell_type": "markdown",
   "id": "d074238b-e848-42b1-9ee2-7cfb6be73441",
   "metadata": {},
   "source": [
    "## Compaction, overwrites, write mode"
   ]
  },
  {
   "cell_type": "markdown",
   "id": "803dadbf-d9cf-4a3a-baf1-4558dd90caed",
   "metadata": {},
   "source": []
  },
  {
   "cell_type": "markdown",
   "id": "383eb430-9009-4068-81c0-dbe89fbc228e",
   "metadata": {},
   "source": []
  },
  {
   "cell_type": "markdown",
   "id": "f86482e8-e042-43a9-8a64-634eb0fd5cd8",
   "metadata": {},
   "source": []
  }
 ],
 "metadata": {
  "kernelspec": {
   "display_name": "Python 3 (ipykernel)",
   "language": "python",
   "name": "python3"
  },
  "language_info": {
   "codemirror_mode": {
    "name": "ipython",
    "version": 3
   },
   "file_extension": ".py",
   "mimetype": "text/x-python",
   "name": "python",
   "nbconvert_exporter": "python",
   "pygments_lexer": "ipython3",
   "version": "3.10.16"
  }
 },
 "nbformat": 4,
 "nbformat_minor": 5
}
