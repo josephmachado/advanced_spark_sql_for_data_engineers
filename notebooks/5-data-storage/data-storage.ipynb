{
 "cells": [
  {
   "cell_type": "markdown",
   "id": "72b5f8ab-f914-4a9d-a19e-a1a599274ad9",
   "metadata": {},
   "source": [
    "# Data storage\n"
   ]
  },
  {
   "cell_type": "markdown",
   "id": "83d78596-f7c4-4527-bbc6-19e3ad58a8ea",
   "metadata": {},
   "source": []
  },
  {
   "cell_type": "markdown",
   "id": "5c6e1d4f-9f20-43d5-b3dd-21a2ccc38a4a",
   "metadata": {},
   "source": []
  },
  {
   "cell_type": "markdown",
   "id": "27d2d060-f50a-4b62-817b-0286d93e499a",
   "metadata": {},
   "source": []
  }
 ],
 "metadata": {
  "kernelspec": {
   "display_name": "Python 3 (ipykernel)",
   "language": "python",
   "name": "python3"
  },
  "language_info": {
   "codemirror_mode": {
    "name": "ipython",
    "version": 3
   },
   "file_extension": ".py",
   "mimetype": "text/x-python",
   "name": "python",
   "nbconvert_exporter": "python",
   "pygments_lexer": "ipython3",
   "version": "3.10.16"
  }
 },
 "nbformat": 4,
 "nbformat_minor": 5
}
