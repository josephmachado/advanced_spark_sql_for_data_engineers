{
 "cells": [
  {
   "cell_type": "markdown",
   "id": "20b43bcd-0597-47f8-b59e-ccca445c8dde",
   "metadata": {},
   "source": [
    "# Query plan"
   ]
  },
  {
   "cell_type": "markdown",
   "id": "ea23cb95-1688-48c8-8d92-090d75d05584",
   "metadata": {},
   "source": [
    "## Explain v Explain Analyze v UI"
   ]
  },
  {
   "cell_type": "markdown",
   "id": "5b4e994a-e31c-4a2d-8911-68226ff222c7",
   "metadata": {},
   "source": [
    "## Read - Process - shuffle - process - write loop pattern"
   ]
  },
  {
   "cell_type": "markdown",
   "id": "afb193fe-f50b-4d45-8873-eacc3d881bc2",
   "metadata": {},
   "source": [
    "## Spark architecture"
   ]
  },
  {
   "cell_type": "markdown",
   "id": "a27c9a07-4457-4118-8208-f72c7685febc",
   "metadata": {},
   "source": [
    "### Application - Job - Stage - Task"
   ]
  },
  {
   "cell_type": "markdown",
   "id": "640fb3d5-4439-4c59-a0d0-c38402e91873",
   "metadata": {},
   "source": [
    "## Spark UI"
   ]
  },
  {
   "cell_type": "markdown",
   "id": "f1eabc2b-46ca-4820-a833-598ab7313af9",
   "metadata": {},
   "source": [
    "### Executor off time"
   ]
  },
  {
   "cell_type": "markdown",
   "id": "90426643-f0e5-4639-9c17-65a0a4eb054a",
   "metadata": {},
   "source": [
    "### Skew"
   ]
  },
  {
   "cell_type": "markdown",
   "id": "df876869-73df-4dea-9e60-8a35ec8ccf7d",
   "metadata": {},
   "source": [
    "### Read v Process time"
   ]
  },
  {
   "cell_type": "markdown",
   "id": "3385e7e0-60eb-45b7-99a5-98079b8ab235",
   "metadata": {},
   "source": [
    "### Requested v actual number of executors"
   ]
  },
  {
   "cell_type": "markdown",
   "id": "a1d1561d-67b6-4cc3-8e58-2f3193053671",
   "metadata": {},
   "source": [
    "## Adaptive Query Execution"
   ]
  },
  {
   "cell_type": "markdown",
   "id": "88ba994d-ddc9-4241-932f-c44e8bcfd6f6",
   "metadata": {},
   "source": []
  }
 ],
 "metadata": {
  "kernelspec": {
   "display_name": "Python 3 (ipykernel)",
   "language": "python",
   "name": "python3"
  },
  "language_info": {
   "codemirror_mode": {
    "name": "ipython",
    "version": 3
   },
   "file_extension": ".py",
   "mimetype": "text/x-python",
   "name": "python",
   "nbconvert_exporter": "python",
   "pygments_lexer": "ipython3",
   "version": "3.10.16"
  }
 },
 "nbformat": 4,
 "nbformat_minor": 5
}
