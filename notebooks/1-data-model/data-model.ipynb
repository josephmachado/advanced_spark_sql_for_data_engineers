{
 "cells": [
  {
   "cell_type": "markdown",
   "id": "fe518eec-f2f8-4132-9a34-307c80df0ec5",
   "metadata": {},
   "source": [
    "# Types of data models"
   ]
  },
  {
   "cell_type": "markdown",
   "id": "029a70cc-74f5-4999-9ccd-d492962a64c4",
   "metadata": {},
   "source": [
    "## Facts"
   ]
  },
  {
   "cell_type": "markdown",
   "id": "4f984c7d-3ff1-47e5-a5e5-698be2c5e38d",
   "metadata": {},
   "source": [
    "## Dimensions"
   ]
  },
  {
   "cell_type": "markdown",
   "id": "61eda181-c065-412c-8bd7-350ad8637ad6",
   "metadata": {},
   "source": [
    "### Snapshot"
   ]
  },
  {
   "cell_type": "markdown",
   "id": "f322aad2-3d11-48b1-9682-fb6946a36f3c",
   "metadata": {},
   "source": [
    "### SCD2"
   ]
  },
  {
   "cell_type": "markdown",
   "id": "915263f0-2206-41ec-93b4-d58f04bf0b20",
   "metadata": {},
   "source": [
    "## Bridge"
   ]
  },
  {
   "cell_type": "markdown",
   "id": "125c0286-ebc9-41d1-afdf-c5f8bee68448",
   "metadata": {},
   "source": [
    "## One Big Table (OBT)"
   ]
  },
  {
   "cell_type": "markdown",
   "id": "c7cce473-7941-4559-854c-b516b5659f57",
   "metadata": {},
   "source": [
    "## Summary "
   ]
  },
  {
   "cell_type": "markdown",
   "id": "3fa372c9-3d50-44b8-b9e7-a6b45e656e2a",
   "metadata": {},
   "source": [
    "## Bridge"
   ]
  }
 ],
 "metadata": {
  "kernelspec": {
   "display_name": "Python 3 (ipykernel)",
   "language": "python",
   "name": "python3"
  },
  "language_info": {
   "codemirror_mode": {
    "name": "ipython",
    "version": 3
   },
   "file_extension": ".py",
   "mimetype": "text/x-python",
   "name": "python",
   "nbconvert_exporter": "python",
   "pygments_lexer": "ipython3",
   "version": "3.10.16"
  }
 },
 "nbformat": 4,
 "nbformat_minor": 5
}
