{
 "cells": [
  {
   "cell_type": "markdown",
   "id": "dd1ecc6f-aa5b-48a3-89b3-a060c1443af8",
   "metadata": {},
   "source": [
    "# Data quality"
   ]
  },
  {
   "cell_type": "markdown",
   "id": "66e17802-0330-44a0-81d3-ddec15d73415",
   "metadata": {},
   "source": [
    "## How to check for data quality"
   ]
  },
  {
   "cell_type": "markdown",
   "id": "85b8ab21-3c13-4291-ab6b-059ce38713b7",
   "metadata": {},
   "source": [
    "## Input, mid-pipeline, output DQ checks"
   ]
  },
  {
   "cell_type": "markdown",
   "id": "45af4ae5-9752-4559-9952-dd7f81962bd7",
   "metadata": {},
   "source": [
    "## Blocking v non blocking DQ checks"
   ]
  },
  {
   "cell_type": "markdown",
   "id": "25c16ef9-d0aa-48d0-96d8-6cf15af6fbe8",
   "metadata": {},
   "source": [
    "## Be mindful of how many tests you create"
   ]
  },
  {
   "cell_type": "markdown",
   "id": "578babef-86f9-49d8-abf6-cb2441973ded",
   "metadata": {},
   "source": [
    "## What types of data quality checks"
   ]
  },
  {
   "cell_type": "markdown",
   "id": "21aaa3a2-2c2d-4b40-a634-133bfbf3c624",
   "metadata": {},
   "source": [
    "## Data completeness, data accuracy, SLA, SLO, - What do these mean?"
   ]
  },
  {
   "cell_type": "markdown",
   "id": "c42e7345-464c-43f2-9423-fa5964eda246",
   "metadata": {},
   "source": [
    "## DQ tools and their caveats"
   ]
  },
  {
   "cell_type": "code",
   "execution_count": null,
   "id": "a7270c1d-429b-4cc8-9012-0fb9f2f0d016",
   "metadata": {},
   "outputs": [],
   "source": []
  }
 ],
 "metadata": {
  "kernelspec": {
   "display_name": "Python 3 (ipykernel)",
   "language": "python",
   "name": "python3"
  },
  "language_info": {
   "codemirror_mode": {
    "name": "ipython",
    "version": 3
   },
   "file_extension": ".py",
   "mimetype": "text/x-python",
   "name": "python",
   "nbconvert_exporter": "python",
   "pygments_lexer": "ipython3",
   "version": "3.10.16"
  }
 },
 "nbformat": 4,
 "nbformat_minor": 5
}
