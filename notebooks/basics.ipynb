{
 "cells": [
  {
   "cell_type": "markdown",
   "id": "3716ead5-747d-4b3f-9894-37893f0b55f5",
   "metadata": {},
   "source": [
    "# Setup"
   ]
  },
  {
   "cell_type": "code",
   "execution_count": null,
   "id": "db3df649-bec7-4be9-acf7-0f17a55c420f",
   "metadata": {
    "scrolled": true
   },
   "outputs": [],
   "source": [
    "%%bash\n",
    "python ./generate_data.py\n",
    "python ./run_ddl.py"
   ]
  },
  {
   "cell_type": "code",
   "execution_count": null,
   "id": "34ca692f-4a9b-4f0d-9b19-d53376bfd8b2",
   "metadata": {
    "scrolled": true
   },
   "outputs": [],
   "source": [
    "!jupyter labextension install jupyterlab-mermaid"
   ]
  },
  {
   "cell_type": "code",
   "execution_count": null,
   "id": "6c73105f-cd8d-41fc-aeff-960a1ded42b2",
   "metadata": {},
   "outputs": [],
   "source": [
    "spark"
   ]
  },
  {
   "cell_type": "code",
   "execution_count": null,
   "id": "a3f5ffd2-5b67-4c7f-802f-1e2a94abedc9",
   "metadata": {},
   "outputs": [],
   "source": [
    "%%sql\n",
    "use prod.db"
   ]
  },
  {
   "cell_type": "markdown",
   "id": "2e3e9344-c229-4c9b-beaf-610dd7b0ab01",
   "metadata": {},
   "source": [
    "# [GET DATA] Use SELECT...FROM, LIMIT, WHERE, & ORDER BY to read the required data from tables\n",
    "\n",
    "The most common use for querying is to read data in our tables. We can do this using a `SELECT ... FROM` statement, as shown below.\n",
    "\n"
   ]
  },
  {
   "cell_type": "code",
   "execution_count": null,
   "id": "a631dce6-7db3-48be-9b15-0b4e997c8f48",
   "metadata": {},
   "outputs": [],
   "source": [
    "%%sql\n",
    "SELECT\n",
    "  *\n",
    "FROM\n",
    "  customer\n",
    "LIMIT\n",
    "  1;"
   ]
  },
  {
   "cell_type": "code",
   "execution_count": null,
   "id": "39a1543d-8e07-4b39-8bad-40e1eb174f3d",
   "metadata": {},
   "outputs": [],
   "source": [
    "%%sql\n",
    "-- use * to specify all columns\n",
    "SELECT\n",
    "  *\n",
    "FROM\n",
    "  orders\n",
    "LIMIT\n",
    "  5;"
   ]
  },
  {
   "cell_type": "markdown",
   "id": "d1b5fdf8-34e1-425a-af29-bc83a57f38ff",
   "metadata": {},
   "source": [
    "However, running a `SELECT ... FROM` statement can cause issues when the data set is extensive.\n"
   ]
  },
  {
   "cell_type": "code",
   "execution_count": null,
   "id": "a30846d4-c457-41c4-b44c-69cf3c76b5c5",
   "metadata": {},
   "outputs": [],
   "source": [
    "%%sql\n",
    "-- use * to specify all columns\n",
    "SELECT\n",
    "  *\n",
    "FROM\n",
    "  orders\n",
    "LIMIT\n",
    "  5;"
   ]
  },
  {
   "cell_type": "code",
   "execution_count": null,
   "id": "e628a8ed-c544-4ff5-ba0a-c10d2ea73ee3",
   "metadata": {},
   "outputs": [],
   "source": [
    "%%sql\n",
    "-- use column c_names only to read data from those columns\n",
    "SELECT\n",
    "  o_orderkey,\n",
    "  o_totalprice\n",
    "FROM\n",
    "  orders\n",
    "LIMIT\n",
    "  5;"
   ]
  },
  {
   "cell_type": "markdown",
   "id": "5024eaa3-5fa2-4020-ae4a-df758dcf9355",
   "metadata": {},
   "source": [
    "\n",
    "We can use the `WHERE` clause if we want to get the rows that match specific criteria. We can specify one or more filters within the `WHERE` clause. \n",
    "\n",
    "The `WHERE` clause with more than one filter can use combinations of `AND` and `OR` criteria to combine the filter criteria, as shown below.\n",
    "\n"
   ]
  },
  {
   "cell_type": "code",
   "execution_count": null,
   "id": "7e278748-f040-400c-bda4-02a0c56edd15",
   "metadata": {},
   "outputs": [],
   "source": [
    "%%sql\n",
    "-- all customer rows that have c_nationkey = 20\n",
    "SELECT\n",
    "  *\n",
    "FROM\n",
    "  customer\n",
    "WHERE\n",
    "  c_nationkey = 20\n",
    "LIMIT\n",
    "  10;"
   ]
  },
  {
   "cell_type": "code",
   "execution_count": null,
   "id": "30a58d74-9291-4487-81ea-44205c3b2879",
   "metadata": {},
   "outputs": [],
   "source": [
    "%%sql\n",
    "-- all customer rows that have c_nationkey = 20 and c_acctbal > 1000\n",
    "SELECT\n",
    "  *\n",
    "FROM\n",
    "  customer\n",
    "WHERE\n",
    "  c_nationkey = 20\n",
    "  AND c_acctbal > 1000\n",
    "LIMIT\n",
    "  10;"
   ]
  },
  {
   "cell_type": "code",
   "execution_count": null,
   "id": "930c32a8-20c2-49c3-ab3b-3fb7c4b9ac01",
   "metadata": {},
   "outputs": [],
   "source": [
    "%%sql\n",
    "-- all customer rows that have c_nationkey = 20 or c_acctbal > 1000\n",
    "SELECT\n",
    "  *\n",
    "FROM\n",
    "  customer\n",
    "WHERE\n",
    "  c_nationkey = 20\n",
    "  OR c_acctbal > 1000\n",
    "LIMIT\n",
    "  10;"
   ]
  },
  {
   "cell_type": "code",
   "execution_count": null,
   "id": "22953972-0fba-434a-a5c9-20726192795d",
   "metadata": {},
   "outputs": [],
   "source": [
    "%%sql\n",
    "-- all customer rows that have (c_nationkey = 20 and c_acctbal > 1000) or rows that have c_nationkey = 11\n",
    "SELECT\n",
    "  *\n",
    "FROM\n",
    "  customer\n",
    "WHERE\n",
    "  (\n",
    "    c_nationkey = 20\n",
    "    AND c_acctbal > 1000\n",
    "  )\n",
    "  OR c_nationkey = 11\n",
    "LIMIT\n",
    "  10;"
   ]
  },
  {
   "cell_type": "markdown",
   "id": "840049d6-07e3-4476-9fe8-a668023383d9",
   "metadata": {},
   "source": [
    "\n",
    "We can combine multiple filter clauses, as seen above. We have seen examples of equals (`=`) and greater than (`>`) conditional operators. There are 6 **conditional operators**, they are\n",
    "\n",
    "1. **<** Less than\n",
    "2. **>** Greater than\n",
    "3. **<=** Less than or equal to\n",
    "4. **>=** Greater than or equal to\n",
    "5. **=** Equal\n",
    "6. **<>** and **!=** both represent Not equal (some DBs only support one of these)\n",
    "\n",
    "Additionally, for string types, we can make **pattern matching with `like` condition**. In a `like` condition, a `_` means any single character, and `%` means zero or more characters, for example.\n",
    "\n",
    "\n"
   ]
  },
  {
   "cell_type": "code",
   "execution_count": null,
   "id": "e27482f2-5883-47c2-ba62-9b78ded6b825",
   "metadata": {},
   "outputs": [],
   "source": [
    "%%sql\n",
    "-- all customer rows where the c_name has a 381 in it\n",
    "SELECT\n",
    "  *\n",
    "FROM\n",
    "  customer\n",
    "WHERE\n",
    "  c_name LIKE '%381%';"
   ]
  },
  {
   "cell_type": "code",
   "execution_count": null,
   "id": "185deb57-918c-4f27-829d-fb45c62ea291",
   "metadata": {},
   "outputs": [],
   "source": [
    "%%sql\n",
    "-- all customer rows where the c_name ends with a 381\n",
    "SELECT\n",
    "  *\n",
    "FROM\n",
    "  customer\n",
    "WHERE\n",
    "  c_name LIKE '%381';"
   ]
  },
  {
   "cell_type": "code",
   "execution_count": null,
   "id": "b15970fb-37c7-4cc9-992f-886079cf00fd",
   "metadata": {},
   "outputs": [],
   "source": [
    "%%sql\n",
    "-- all customer rows where the c_name starts with a 381\n",
    "SELECT\n",
    "  *\n",
    "FROM\n",
    "  customer\n",
    "WHERE\n",
    "  c_name LIKE '381%';"
   ]
  },
  {
   "cell_type": "code",
   "execution_count": null,
   "id": "6c36634b-56f2-4260-bbf1-42468630b721",
   "metadata": {},
   "outputs": [],
   "source": [
    "%%sql\n",
    "-- all customer rows where the c_name has a combination of any character and 9 and 1\n",
    "SELECT\n",
    "  *\n",
    "FROM\n",
    "  customer\n",
    "WHERE\n",
    "  c_name LIKE '%_91%';"
   ]
  },
  {
   "cell_type": "markdown",
   "id": "f6cc7c74-8579-429b-9fc7-032275e0a99b",
   "metadata": {},
   "source": [
    "We can also filter for more than one value using `IN` and `NOT IN`.\n"
   ]
  },
  {
   "cell_type": "code",
   "execution_count": null,
   "id": "9b768719-f8a1-495e-a75d-fcaf94ee723f",
   "metadata": {},
   "outputs": [],
   "source": [
    "%%sql\n",
    "-- all customer rows which have c_nationkey = 10 or c_nationkey = 20\n",
    "SELECT\n",
    "  *\n",
    "FROM\n",
    "  customer\n",
    "WHERE\n",
    "  c_nationkey IN (10, 20);"
   ]
  },
  {
   "cell_type": "code",
   "execution_count": null,
   "id": "d3a8d62f-6932-4ae6-915b-349c3697308e",
   "metadata": {},
   "outputs": [],
   "source": [
    "%%sql\n",
    "-- all customer rows which have do not have c_nationkey as 10 or 20\n",
    "SELECT\n",
    "  *\n",
    "FROM\n",
    "  customer\n",
    "WHERE\n",
    "  c_nationkey NOT IN (10, 20);"
   ]
  },
  {
   "cell_type": "markdown",
   "id": "bed6a940-8c41-4539-a90a-7ed2283588f6",
   "metadata": {},
   "source": [
    "We can get the number of rows in a table using `count(*)` as shown below.\n"
   ]
  },
  {
   "cell_type": "code",
   "execution_count": null,
   "id": "9f8ab042-0e72-4745-af6d-75b914c727cc",
   "metadata": {},
   "outputs": [],
   "source": [
    "%%sql\n",
    "SELECT\n",
    "  COUNT(*)\n",
    "FROM\n",
    "  customer;"
   ]
  },
  {
   "cell_type": "code",
   "execution_count": null,
   "id": "d5d84dc4-7ac0-4698-98f0-2da01e259ce9",
   "metadata": {},
   "outputs": [],
   "source": [
    "%%sql\n",
    "SELECT\n",
    "  COUNT(*)\n",
    "FROM\n",
    "  lineitem;"
   ]
  },
  {
   "cell_type": "markdown",
   "id": "2dd0ebb4-c083-4f65-b849-8326caa815b0",
   "metadata": {},
   "source": [
    "If we want to get the rows sorted by values in a specific column, we use `ORDER BY`, for example.\n"
   ]
  },
  {
   "cell_type": "code",
   "execution_count": null,
   "id": "05e6880d-5e4f-418d-9737-adaa59830fb5",
   "metadata": {},
   "outputs": [],
   "source": [
    "%%sql\n",
    "-- Will show the first ten customer records with the lowest custkey\n",
    "-- rows are ordered in ASC order by default\n",
    "SELECT\n",
    "  *\n",
    "FROM\n",
    "  orders\n",
    "ORDER BY\n",
    "  o_custkey\n",
    "LIMIT\n",
    "  10;"
   ]
  },
  {
   "cell_type": "code",
   "execution_count": null,
   "id": "0293d7b4-5a6a-4b34-b151-90ebf319bb3a",
   "metadata": {},
   "outputs": [],
   "source": [
    "%%sql\n",
    "-- Will show the first ten customer's records with the highest custkey\n",
    "SELECT\n",
    "  *\n",
    "FROM\n",
    "  orders\n",
    "ORDER BY\n",
    "  o_custkey DESC\n",
    "LIMIT\n",
    "  10;"
   ]
  },
  {
   "cell_type": "markdown",
   "id": "365c118e-9657-4762-aeab-bf9e49adafe6",
   "metadata": {},
   "source": [
    "\n",
    "# [JOINS] Combine data from multiple tables using JOINs (there are different types of JOINs)\n",
    "\n",
    "We can combine data from multiple tables using joins. When we write a join query, we have a format as shown below.\n",
    "\n",
    "```sql\n",
    "-- not based on real tables\n",
    "SELECT\n",
    "    a.*\n",
    "FROM\n",
    "    table_a a -- LEFT table a\n",
    "    JOIN table_b b -- RIGHT table b\n",
    "    ON a.id = b.id\n",
    "```\n",
    "\n",
    "The table specified first (table_a) is the left table, whereas the table established second is the right table. When we have multiple tables joined, we consider the joined dataset from the first two tables as the left table and the third table as the right table (The DB optimizes the joins for performance).\n",
    "\n",
    "```sql\n",
    "-- not based on real tables\n",
    "SELECT\n",
    "    a.*\n",
    "FROM\n",
    "    table_a a -- LEFT table a\n",
    "    JOIN table_b b -- RIGHT table b\n",
    "    ON a.id = b.id\n",
    "    JOIN table_c c -- LEFT table is the joined data from \n",
    "-- table_a & table_b, right table is table_c\n",
    "    ON a.c_id = c.id\n",
    "```\n",
    "\n",
    "There are five main types of joins, they are:\n",
    "\n",
    "## 1. Inner join (default): Get only rows in both tables\n",
    "\n"
   ]
  },
  {
   "cell_type": "code",
   "execution_count": null,
   "id": "0d7906dc-216a-4f30-ac40-dd731e32e31c",
   "metadata": {},
   "outputs": [],
   "source": [
    "%%sql\n",
    "SELECT\n",
    "  o.o_orderkey,\n",
    "  l.l_orderkey\n",
    "FROM\n",
    "  orders o\n",
    "  JOIN lineitem l ON o.o_orderkey = l.l_orderkey\n",
    "  AND o.o_orderdate BETWEEN l.l_shipdate - INTERVAL '5' DAY AND l.l_shipdate  + INTERVAL '5' DAY\n",
    "LIMIT\n",
    "  100;"
   ]
  },
  {
   "cell_type": "code",
   "execution_count": null,
   "id": "5502e076-9db2-47cb-b07c-d0922b0b9e24",
   "metadata": {},
   "outputs": [],
   "source": [
    "%%sql\n",
    "SELECT\n",
    "  COUNT(o.o_orderkey) AS order_rows_count,\n",
    "  COUNT(l.l_orderkey) AS lineitem_rows_count\n",
    "FROM\n",
    "  orders o\n",
    "  JOIN lineitem l ON o.o_orderkey = l.l_orderkey\n",
    "  AND o.o_orderdate BETWEEN l.l_shipdate - INTERVAL '5' DAY AND l.l_shipdate  + INTERVAL '5' DAY;"
   ]
  },
  {
   "cell_type": "markdown",
   "id": "3c666f9f-382a-463e-8f91-086ad3b4a86b",
   "metadata": {},
   "source": [
    "**Note:** JOIN defaults to INNER JOIN.\n",
    "\n",
    "The output will have rows from orders and lineitem that found at least one matching row from the other table with the specified join condition (same o_orderkey and orderdate within ship date +/- 5 days). \n",
    "\n",
    "We can also see that 247650 rows from orders and lineitem tables matched.\n",
    "\n",
    "## 2. Left outer join (aka left join): Get all rows from the left table and only matching rows from the right table.\n",
    "\n"
   ]
  },
  {
   "cell_type": "code",
   "execution_count": null,
   "id": "f0b7be0b-edc8-4817-9e45-5fc6e480f936",
   "metadata": {},
   "outputs": [],
   "source": [
    "%%sql\n",
    "SELECT\n",
    "  o.o_orderkey,\n",
    "  l.l_orderkey\n",
    "FROM\n",
    "  orders o\n",
    "  LEFT JOIN lineitem l ON o.o_orderkey = l.l_orderkey\n",
    "  AND o.o_orderdate BETWEEN l.l_shipdate - INTERVAL '5' DAY AND l.l_shipdate  + INTERVAL '5' DAY\n",
    "LIMIT\n",
    "  100;"
   ]
  },
  {
   "cell_type": "code",
   "execution_count": null,
   "id": "1d7c1a22-5ff0-42a2-a705-8f0089f75eed",
   "metadata": {},
   "outputs": [],
   "source": [
    "%%sql\n",
    "SELECT\n",
    "  COUNT(o.o_orderkey) AS order_rows_count,\n",
    "  COUNT(l.l_orderkey) AS lineitem_rows_count\n",
    "FROM\n",
    "  orders o\n",
    "  LEFT JOIN lineitem l ON o.o_orderkey = l.l_orderkey\n",
    "  AND o.o_orderdate BETWEEN l.l_shipdate - INTERVAL '5' DAY AND l.l_shipdate  + INTERVAL '5' DAY;"
   ]
  },
  {
   "cell_type": "markdown",
   "id": "5b9af35f-4066-4f23-bc29-88e59da205da",
   "metadata": {},
   "source": [
    "The output will have all the rows from orders and the rows from lineitem that were able to find at least one matching row from the orders table with the specified join condition (same o_orderkey and orderdate within ship date +/- 5 days). \n",
    "\n",
    "We can also see that the number of rows from the orders table is 1,519,332 & from the lineitem table is 247,650. The number of rows in orders is 1,500,000, but the join condition produces 1,519,332 since some orders match with multiple lineitems.\n",
    "\n",
    "## 3. Right outer join (aka right join): Get matching rows from the left and all rows from the right table.\n",
    "\n"
   ]
  },
  {
   "cell_type": "code",
   "execution_count": null,
   "id": "2b419767-6661-4cb4-96ae-dc5be8f58a53",
   "metadata": {},
   "outputs": [],
   "source": [
    "%%sql\n",
    "SELECT\n",
    "  o.o_orderkey,\n",
    "  l.l_orderkey\n",
    "FROM\n",
    "  orders o\n",
    "  RIGHT JOIN lineitem l ON o.o_orderkey = l.l_orderkey\n",
    "  AND o.o_orderdate BETWEEN l.l_shipdate - INTERVAL '5' DAY AND l.l_shipdate  + INTERVAL '5' DAY\n",
    "LIMIT\n",
    "  100;"
   ]
  },
  {
   "cell_type": "code",
   "execution_count": null,
   "id": "c1de74f6-3fe9-42a2-8030-b4a5440866ba",
   "metadata": {},
   "outputs": [],
   "source": [
    "%%sql\n",
    "SELECT\n",
    "  COUNT(o.o_orderkey) AS order_rows_count,\n",
    "  COUNT(l.l_orderkey) AS lineitem_rows_count\n",
    "FROM\n",
    "  orders o\n",
    "  RIGHT JOIN lineitem l ON o.o_orderkey = l.l_orderkey\n",
    "  AND o.o_orderdate BETWEEN l.l_shipdate - INTERVAL '5' DAY AND l.l_shipdate  + INTERVAL '5' DAY;"
   ]
  },
  {
   "cell_type": "markdown",
   "id": "7871b876-cbab-4772-a0ba-24423295cd67",
   "metadata": {},
   "source": [
    "The output will have the rows from orders that found at least one matching row from the lineitem table with the specified join condition (same o_orderkey and orderdate within ship date +/- 5 days) and all the rows from the lineitem table.\n",
    "\n",
    "We can also see that the number of rows from the orders table is 247,650 & from the lineitem table is 6,001,215 .\n",
    "\n",
    "## 4. Full outer join: Get all rows from both the left and right tables.\n",
    "\n"
   ]
  },
  {
   "cell_type": "code",
   "execution_count": null,
   "id": "fc125955-f6f5-42d1-a327-e54cef7935aa",
   "metadata": {},
   "outputs": [],
   "source": [
    "%%sql\n",
    "SELECT\n",
    "  o.o_orderkey,\n",
    "  l.l_orderkey\n",
    "FROM\n",
    "  orders o\n",
    "  FULL OUTER JOIN lineitem l ON o.o_orderkey = l.l_orderkey\n",
    "  AND o.o_orderdate BETWEEN l.l_shipdate - INTERVAL '5' DAY AND l.l_shipdate  + INTERVAL '5' DAY\n",
    "LIMIT\n",
    "  100;"
   ]
  },
  {
   "cell_type": "code",
   "execution_count": null,
   "id": "d932e227-e46e-4821-82fd-8d5f398b810a",
   "metadata": {},
   "outputs": [],
   "source": [
    "%%sql\n",
    "SELECT\n",
    "  COUNT(o.o_orderkey) AS order_rows_count,\n",
    "  COUNT(l.l_orderkey) AS lineitem_rows_count\n",
    "FROM\n",
    "  orders o\n",
    "  FULL OUTER JOIN lineitem l ON o.o_orderkey = l.l_orderkey\n",
    "  AND o.o_orderdate BETWEEN l.l_shipdate - INTERVAL '5' DAY AND l.l_shipdate  + INTERVAL '5' DAY;"
   ]
  },
  {
   "cell_type": "markdown",
   "id": "760ccaf0-5cb3-4008-a237-c6274d925fae",
   "metadata": {},
   "source": [
    "The output will have all the rows from orders that found at least one matching row from the lineitem table with the specified join condition (same o_orderkey and orderdate within ship date +/- 5 days) and all the rows from the lineitem table.\n",
    "\n",
    "We can also see that the number of rows from the orders table is 1,519,332 & from the lineitem table is 6,001,215.\n",
    "\n",
    "\n",
    "![Joins](./images/join.png)\n",
    "\n",
    "\n",
    "## 5. Cross join: Get the cartesian product of all rows\n",
    "\n"
   ]
  },
  {
   "cell_type": "code",
   "execution_count": null,
   "id": "993fdd88-52ad-4d50-ad60-7c50e5fda8af",
   "metadata": {
    "scrolled": true
   },
   "outputs": [],
   "source": [
    "%%sql\n",
    "SELECT\n",
    "  n.n_name AS nation_c_name,\n",
    "  r.r_name AS region_c_name\n",
    "FROM\n",
    "  nation n\n",
    "  CROSS JOIN region r;"
   ]
  },
  {
   "cell_type": "markdown",
   "id": "198c8153-e1fd-41be-a14b-68c4ada16c1c",
   "metadata": {},
   "source": [
    "\n",
    "The output will have every row of the nation joined with every row of the region. There are 25 nations and five regions, leading to 125 rows in our result from the cross-join.\n",
    "\n",
    "![Cross join](./images/cross_join.png)\n",
    "\n",
    "There are cases where we will need to join a table with itself, called a SELF-join.\n",
    "\n",
    "**Example**:\n",
    "\n",
    "1. For every customer order, get the order placed earlier in the same week (Sunday - Saturday, not the previous seven days). Only show customer orders that have at least one such order.\n",
    "\n"
   ]
  },
  {
   "cell_type": "markdown",
   "id": "3881164e-f787-4dda-8c85-ba1ebb2812a3",
   "metadata": {},
   "source": [
    "\n",
    "# [GROUP BY] Used to aggregate values to see patterns in data (& reporting)\n",
    "\n",
    "Most analytical queries require calculating metrics that involve combining data from multiple rows. `GROUP BY` allows us to perform aggregate calculations on data from a set of rows grouped together based on values of specified column(s).\n",
    "\n",
    "**Example**:\n",
    "\n",
    "1. Create a report that shows the number of orders per orderpriority segment.\n",
    "\n"
   ]
  },
  {
   "cell_type": "code",
   "execution_count": null,
   "id": "b0338c79-4905-435b-903a-1aa5f5439e4c",
   "metadata": {},
   "outputs": [],
   "source": [
    "%%sql\n",
    "SELECT\n",
    "  o_orderpriority,\n",
    "  COUNT(*) AS num_orders\n",
    "FROM\n",
    "  orders\n",
    "GROUP BY\n",
    "  o_orderpriority;"
   ]
  },
  {
   "cell_type": "markdown",
   "id": "8021970e-565c-4920-9e55-8313ca4e9e99",
   "metadata": {},
   "source": [
    "\n",
    "In the above query, we group the data by `orderpriority`, and the calculation `count(*)` will be applied to the rows having a specific `orderpriority` value. The output will consist of one row per unique value of `orderpriority` and the `count(*)` calculation.\n",
    "\n",
    "![Group by](./images/group.png)\n",
    "\n",
    "The calculations allowed are typically SUM/MIN/MAX/AVG/COUNT. However, some databases have more complex aggregate functions; check your DB documentation.\n",
    "\n",
    "# [SUB QUERY] Use the result of a query within a query using sub-queries\n",
    "\n",
    "When we want to use the result of a query as a table in another query, we use subqueries. **Example**:\n",
    "\n",
    "1. Create a report that shows the nation, how many items it supplied (by suppliers in that nation), and how many items it purchased (by customers in that nation). \n",
    "\n"
   ]
  },
  {
   "cell_type": "code",
   "execution_count": null,
   "id": "2730e3a6-5b0f-4a9f-9b0f-33a08b54f737",
   "metadata": {
    "scrolled": true
   },
   "outputs": [],
   "source": [
    "%%sql\n",
    "SELECT\n",
    "  n.n_name AS nation_c_name,\n",
    "  s.quantity AS supplied_items_quantity,\n",
    "  c.quantity AS purchased_items_quantity\n",
    "FROM\n",
    "  nation n\n",
    "  LEFT JOIN (\n",
    "    SELECT\n",
    "      n.n_nationkey,\n",
    "      SUM(l.l_quantity) AS quantity\n",
    "    FROM\n",
    "      lineitem l\n",
    "      JOIN supplier s ON l.l_suppkey = s.s_suppkey\n",
    "      JOIN nation n ON s.s_nationkey = n.n_nationkey\n",
    "    GROUP BY\n",
    "      n.n_nationkey\n",
    "  ) s ON n.n_nationkey = s.n_nationkey\n",
    "  LEFT JOIN (\n",
    "    SELECT\n",
    "      n.n_nationkey,\n",
    "      SUM(l.l_quantity) AS quantity\n",
    "    FROM\n",
    "      lineitem l\n",
    "      JOIN orders o ON l.l_orderkey = o.o_orderkey\n",
    "      JOIN customer c ON o.o_custkey = c.c_custkey\n",
    "      JOIN nation n ON c.c_nationkey = n.n_nationkey\n",
    "    GROUP BY\n",
    "      n.n_nationkey\n",
    "  ) c ON n.n_nationkey = c.n_nationkey;"
   ]
  },
  {
   "cell_type": "markdown",
   "id": "b0181831-7a68-45d9-950e-fa5f898a103f",
   "metadata": {},
   "source": [
    "\n",
    "In the above query, we can see that there are two sub-queries, one to calculate the quantity supplied by a nation and the other to calculate the quantity purchased by the customers of a nation.\n",
    "\n",
    "# [CASE WHEN] Replicate IF.ELSE logic with CASE statements\n",
    "\n",
    "We can do conditional logic in the `SELECT ... FROM` part of our query, as shown below.\n",
    "\n"
   ]
  },
  {
   "cell_type": "code",
   "execution_count": null,
   "id": "73d65794-1f7b-4355-a3b9-568270092234",
   "metadata": {
    "scrolled": true
   },
   "outputs": [],
   "source": [
    "%%sql\n",
    "SELECT\n",
    "    o_orderkey,\n",
    "    o_totalprice,\n",
    "    CASE\n",
    "        WHEN o_totalprice > 100000 THEN 'high'\n",
    "        WHEN o_totalprice BETWEEN 25000\n",
    "        AND 100000 THEN 'medium'\n",
    "        ELSE 'low'\n",
    "    END AS order_price_bucket\n",
    "FROM\n",
    "    orders;"
   ]
  },
  {
   "cell_type": "markdown",
   "id": "64fd4887-83c7-4403-a1e0-b6d50073efd5",
   "metadata": {},
   "source": [
    "We can see how we display different values depending on the `totalprice` column. We can also use multiple criteria as our conditional criteria (e.g., totalprice > 100000 AND orderpriority = '2-HIGH').\n",
    "\n",
    "# [STANDARD FUNCTION] Use standard inbuilt DB functions for common String, Time, and Numeric data manipulation\n",
    "\n",
    "When processing data, more often than not, we will need to change values in columns; shown below are a few standard functions to be aware of:\n",
    "\n",
    "1. **String functions**\n",
    "   1. **LENGTH** is used to calculate the length of a string. E.g., `SELECT LENGTH('hi');` will output 2.\n",
    "   2. **CONCAT** combines multiple string columns into one. E.g., `SELECT CONCAT(o_orderstatus, '-', o_orderpriority) FROM ORDERS LIMIT 5;` will concatenate the o_orderstatus and o_orderpriority columns with a dash in between them.\n",
    "   3. **SPLIT** is used to split a value into an array based on a given delimiter. E.g., `SELECT STRING_SPLIT(o_orderpriority, '-') FROM ORDERS LIMIT 5;` will output a column with arrays formed by splitting o_orderpriority values on `-`.\n",
    "   4. **SUBSTRING** is used to get a sub-string from a value, given the start and end character indices. E.g., `SELECT o_orderpriority, SUBSTRING(o_orderpriority, 1, 5) FROM orders LIMIT 5;` will get the first five (1 - 5) characters of the o_orderpriority column.\n",
    "   5. **TRIM** is used to remove empty spaces to the left and right of the value. E.g., `SELECT TRIM(' hi ');` will output `hi` without any spaces around it. LTRIM and RTRIM are similar but only remove spaces before and after the string, respectively.\n",
    "2. **Date and Time functions**\n",
    "   1. **Adding and subtracting dates**: Is used to add and subtract periods; the format heavily depends on the DB. In DuckDB, `date_diff` accepts 3 parameters, the outputs unit (day, month, year), the datetime/date values a and b such that the output will be a - b. The `+ INTERVAL n UNIT(DAY/MONTH/YEAR)` adds the value (in specified units) to the timestamp value.\n",
    "      ```sql\n",
    "        -- Date and Time Functions\n",
    "        SELECT\n",
    "            date_diff('day', DATE '2022-10-01', DATE '2023-11-05') AS diff_in_days,\n",
    "            date_diff('month', DATE '2022-10-01', DATE '2023-11-05') AS diff_in_months,\n",
    "            date_diff('year', DATE '2022-10-01', DATE '2023-11-05') AS diff_in_years,\n",
    "            DATE '2022-10-01' + INTERVAL 400 DAY AS new_date;\n",
    "      ```\n",
    "    It will show the difference between the two dates in the specified period. We can also add/subtract an arbitrary period from a date/time column. E.g., `SELECT DATE '2022-11-05' + INTERVAL '10' DAY;` will show the output `2022-11-15` (try subtraction of dates).\n",
    "   2. **String <=> date/time conversions**: When we want to change the data type of a string to date/time, we can use the `DATE 'YYYY-MM-DD'` or `TIMESTAMP 'YYYY-MM-DD HH:mm:SS'` functions. But when the data is in a non-standard date/time format such as `MM/DD/YYYY`, we will need to specify the input structure; we do this using `strptime`, E.g., `SELECT strptime('11-05-2023', '%m-%d-%Y');`.  \n",
    "   \n",
    "   We can convert a timestamp/date into a string with the required format using `strftime`. E.g., `SELECT strftime(o_orderdate, '%Y-%m-01') AS first_month_date FROM orders LIMIT 5;` will map every o_orderdate to the first of their month.\n",
    "\n",
    "   See [this page](https://duckdb.org/docs/sql/functions/date) on how to set the proper date time format.\n",
    "   3. **Time frame functions (YEAR/MONTH/DAY)**:  When we want to extract specific periods from a date/time column, we can use these functions. E.g., `SELECT year(DATE '2023-11-05');` will return 2023. Similarly, we have month, day, hour, min, etc.\n",
    "3. **Numeric**\n",
    "   1. **ROUND** is used to specify the number of digits allowed after the decimal point. E.g. `SELECT ROUND(100.102345, 2);`\n",
    "   2. **ABS** is used to get the absolute value of a given number. E.g. `SELECT ABS(-100), ABS(100);` \n",
    "   3. **Mathematical operations** these are +,-,*,/.\n",
    "   4. **Ceil/Floor** is used to get the next higher and most recent lower integers, given a decimal digit. E.g. `SELECT CEIL(100.1), FLOOR(100.1);`"
   ]
  },
  {
   "cell_type": "code",
   "execution_count": null,
   "id": "35c4f32c-e4b2-412c-951f-fa702ba20ae9",
   "metadata": {},
   "outputs": [],
   "source": []
  }
 ],
 "metadata": {
  "kernelspec": {
   "display_name": "Python 3 (ipykernel)",
   "language": "python",
   "name": "python3"
  },
  "language_info": {
   "codemirror_mode": {
    "name": "ipython",
    "version": 3
   },
   "file_extension": ".py",
   "mimetype": "text/x-python",
   "name": "python",
   "nbconvert_exporter": "python",
   "pygments_lexer": "ipython3",
   "version": "3.10.16"
  }
 },
 "nbformat": 4,
 "nbformat_minor": 5
}
