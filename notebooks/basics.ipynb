{
 "cells": [
  {
   "cell_type": "markdown",
   "id": "3716ead5-747d-4b3f-9894-37893f0b55f5",
   "metadata": {},
   "source": [
    "# Setup"
   ]
  },
  {
   "cell_type": "code",
   "execution_count": 1,
   "id": "f6955583-8cef-409e-9a60-002f20e888b6",
   "metadata": {},
   "outputs": [
    {
     "data": {
      "text/html": [
       "\n",
       "            <div>\n",
       "                <p><b>SparkSession - in-memory</b></p>\n",
       "                \n",
       "        <div>\n",
       "            <p><b>SparkContext</b></p>\n",
       "\n",
       "            <p><a href=\"http://f2b400637def:4041\">Spark UI</a></p>\n",
       "\n",
       "            <dl>\n",
       "              <dt>Version</dt>\n",
       "                <dd><code>v3.5.5</code></dd>\n",
       "              <dt>Master</dt>\n",
       "                <dd><code>local[*]</code></dd>\n",
       "              <dt>AppName</dt>\n",
       "                <dd><code>PySparkShell</code></dd>\n",
       "            </dl>\n",
       "        </div>\n",
       "        \n",
       "            </div>\n",
       "        "
      ],
      "text/plain": [
       "<pyspark.sql.session.SparkSession at 0x7aa5749e3a90>"
      ]
     },
     "execution_count": 1,
     "metadata": {},
     "output_type": "execute_result"
    }
   ],
   "source": [
    "spark"
   ]
  },
  {
   "cell_type": "markdown",
   "id": "c43529bd-60cb-4de0-b952-62b039bc9d23",
   "metadata": {},
   "source": [
    "# DDL "
   ]
  },
  {
   "cell_type": "code",
   "execution_count": 2,
   "id": "7d6b9f15-4d39-424b-abde-f7bece159ce4",
   "metadata": {},
   "outputs": [
    {
     "data": {
      "text/plain": [
       "DataFrame[]"
      ]
     },
     "execution_count": 2,
     "metadata": {},
     "output_type": "execute_result"
    }
   ],
   "source": [
    "# Drop existing tables if they exist\n",
    "spark.sql(\"DROP TABLE IF EXISTS prod.db.customer\")\n",
    "spark.sql(\"DROP TABLE IF EXISTS prod.db.lineitem\")\n",
    "spark.sql(\"DROP TABLE IF EXISTS prod.db.nation\")\n",
    "spark.sql(\"DROP TABLE IF EXISTS prod.db.orders\")\n",
    "spark.sql(\"DROP TABLE IF EXISTS prod.db.part\")\n",
    "spark.sql(\"DROP TABLE IF EXISTS prod.db.partsupp\")\n",
    "spark.sql(\"DROP TABLE IF EXISTS prod.db.region\")\n",
    "spark.sql(\"DROP TABLE IF EXISTS prod.db.supplier\")"
   ]
  },
  {
   "cell_type": "code",
   "execution_count": 3,
   "id": "0c34360c-1421-43a0-831b-828e6c084807",
   "metadata": {},
   "outputs": [
    {
     "data": {
      "text/plain": [
       "DataFrame[]"
      ]
     },
     "execution_count": 3,
     "metadata": {},
     "output_type": "execute_result"
    }
   ],
   "source": [
    "# Create tables using Iceberg format\n",
    "spark.sql(\"\"\"\n",
    "CREATE TABLE IF NOT EXISTS prod.db.customer (\n",
    "  c_custkey    BIGINT,\n",
    "  c_name       STRING,\n",
    "  c_address    STRING,\n",
    "  c_nationkey  BIGINT,\n",
    "  c_phone      STRING,\n",
    "  c_acctbal    DECIMAL(15,2),\n",
    "  c_mktsegment STRING,\n",
    "  c_comment    STRING\n",
    ") USING iceberg\n",
    "TBLPROPERTIES (\n",
    "  'format-version' = '2'\n",
    ")\n",
    "\"\"\")\n",
    "\n",
    "spark.sql(\"\"\"\n",
    "CREATE TABLE IF NOT EXISTS prod.db.lineitem (\n",
    "  l_orderkey      BIGINT,\n",
    "  l_partkey       BIGINT,\n",
    "  l_suppkey       BIGINT,\n",
    "  l_linenumber    INT,\n",
    "  l_quantity      DECIMAL(15,2),\n",
    "  l_extendedprice DECIMAL(15,2),\n",
    "  l_discount      DECIMAL(15,2),\n",
    "  l_tax           DECIMAL(15,2),\n",
    "  l_returnflag    STRING,\n",
    "  l_linestatus    STRING,\n",
    "  l_shipdate      DATE,\n",
    "  l_commitdate    DATE,\n",
    "  l_receiptdate   DATE,\n",
    "  l_shipinstruct  STRING,\n",
    "  l_shipmode      STRING,\n",
    "  l_comment       STRING\n",
    ") USING iceberg\n",
    "TBLPROPERTIES (\n",
    "  'format-version' = '2'\n",
    ")\n",
    "\"\"\")\n",
    "\n",
    "spark.sql(\"\"\"\n",
    "CREATE TABLE IF NOT EXISTS prod.db.nation (\n",
    "  n_nationkey INT,\n",
    "  n_name      STRING,\n",
    "  n_regionkey INT,\n",
    "  n_comment   STRING\n",
    ") USING iceberg\n",
    "TBLPROPERTIES (\n",
    "  'format-version' = '2'\n",
    ")\n",
    "\"\"\")\n",
    "\n",
    "spark.sql(\"\"\"\n",
    "CREATE TABLE IF NOT EXISTS prod.db.orders (\n",
    "  o_orderkey      BIGINT,\n",
    "  o_custkey       BIGINT,\n",
    "  o_orderstatus   STRING,\n",
    "  o_totalprice    DECIMAL(15,2),\n",
    "  o_orderdate     DATE,\n",
    "  o_orderpriority STRING,\n",
    "  o_clerk         STRING,\n",
    "  o_shippriority  INT,\n",
    "  o_comment       STRING\n",
    ") USING iceberg\n",
    "TBLPROPERTIES (\n",
    "  'format-version' = '2'\n",
    ")\n",
    "\"\"\")\n",
    "\n",
    "spark.sql(\"\"\"\n",
    "CREATE TABLE IF NOT EXISTS prod.db.part (\n",
    "  p_partkey     BIGINT,\n",
    "  p_name        STRING,\n",
    "  p_mfgr        STRING,\n",
    "  p_brand       STRING,\n",
    "  p_type        STRING,\n",
    "  p_size        INT,\n",
    "  p_container   STRING,\n",
    "  p_retailprice DECIMAL(15,2),\n",
    "  p_comment     STRING\n",
    ") USING iceberg\n",
    "TBLPROPERTIES (\n",
    "  'format-version' = '2'\n",
    ")\n",
    "\"\"\")\n",
    "\n",
    "spark.sql(\"\"\"\n",
    "CREATE TABLE IF NOT EXISTS prod.db.partsupp (\n",
    "  ps_partkey    BIGINT,\n",
    "  ps_suppkey    BIGINT,\n",
    "  ps_availqty   INT,\n",
    "  ps_supplycost DECIMAL(15,2),\n",
    "  ps_comment    STRING\n",
    ") USING iceberg\n",
    "TBLPROPERTIES (\n",
    "  'format-version' = '2'\n",
    ")\n",
    "\"\"\")\n",
    "\n",
    "spark.sql(\"\"\"\n",
    "CREATE TABLE IF NOT EXISTS prod.db.region (\n",
    "  r_regionkey INT,\n",
    "  r_name      STRING,\n",
    "  r_comment   STRING\n",
    ") USING iceberg\n",
    "TBLPROPERTIES (\n",
    "  'format-version' = '2'\n",
    ")\n",
    "\"\"\")\n",
    "\n",
    "spark.sql(\"\"\"\n",
    "CREATE TABLE IF NOT EXISTS prod.db.supplier (\n",
    "  s_suppkey   BIGINT,\n",
    "  s_name      STRING,\n",
    "  s_address   STRING,\n",
    "  s_nationkey BIGINT,\n",
    "  s_phone     STRING,\n",
    "  s_acctbal   DECIMAL(15,2),\n",
    "  s_comment   STRING\n",
    ") USING iceberg\n",
    "TBLPROPERTIES (\n",
    "  'format-version' = '2'\n",
    ")\n",
    "\"\"\")"
   ]
  },
  {
   "cell_type": "markdown",
   "id": "dcea2714-ca76-4043-a429-aceaf2e67e94",
   "metadata": {},
   "source": [
    "# Insert data into upstream tables"
   ]
  },
  {
   "cell_type": "code",
   "execution_count": 29,
   "id": "79c0faee-5c2d-4085-a657-2f0840dedf73",
   "metadata": {},
   "outputs": [],
   "source": [
    "from pathlib import Path\n",
    "def upsert_data(data_name, data_path = Path('/home/iceberg/notebooks/data')):\n",
    "    csv_path = data_path / f'{data_name}.csv'\n",
    "    print(f'Reading {data_name} data from {str(csv_path)}')\n",
    "    df = spark.read.format(\"csv\").option(\"header\", \"true\").option(\"delimiter\", \",\").option(\"inferSchema\", \"true\").load(str(csv_path))\n",
    "    df.writeTo(f\"prod.db.{data_name}\").overwritePartitions()\n",
    "    "
   ]
  },
  {
   "cell_type": "code",
   "execution_count": 30,
   "id": "26a90b61-41b6-4f33-ab3a-e154417cdd2d",
   "metadata": {},
   "outputs": [
    {
     "name": "stdout",
     "output_type": "stream",
     "text": [
      "Reading customer data from /home/iceberg/notebooks/data/customer.csv\n",
      "Reading lineitem data from /home/iceberg/notebooks/data/lineitem.csv\n"
     ]
    },
    {
     "name": "stderr",
     "output_type": "stream",
     "text": [
      "                                                                                "
     ]
    },
    {
     "name": "stdout",
     "output_type": "stream",
     "text": [
      "Reading nation data from /home/iceberg/notebooks/data/nation.csv\n",
      "Reading orders data from /home/iceberg/notebooks/data/orders.csv\n"
     ]
    },
    {
     "name": "stderr",
     "output_type": "stream",
     "text": [
      "                                                                                "
     ]
    },
    {
     "name": "stdout",
     "output_type": "stream",
     "text": [
      "Reading part data from /home/iceberg/notebooks/data/part.csv\n",
      "Reading partsupp data from /home/iceberg/notebooks/data/partsupp.csv\n",
      "Reading region data from /home/iceberg/notebooks/data/region.csv\n",
      "Reading supplier data from /home/iceberg/notebooks/data/supplier.csv\n"
     ]
    }
   ],
   "source": [
    "upsert_data('customer')\n",
    "upsert_data('lineitem')\n",
    "upsert_data(\"nation\")\n",
    "upsert_data(\"orders\")\n",
    "upsert_data(\"part\")\n",
    "upsert_data(\"partsupp\")\n",
    "upsert_data(\"region\")\n",
    "upsert_data(\"supplier\")"
   ]
  },
  {
   "cell_type": "code",
   "execution_count": null,
   "id": "19bd9379-2d40-40ad-8387-c5ae57cf5c68",
   "metadata": {},
   "outputs": [],
   "source": []
  }
 ],
 "metadata": {
  "kernelspec": {
   "display_name": "Python 3 (ipykernel)",
   "language": "python",
   "name": "python3"
  },
  "language_info": {
   "codemirror_mode": {
    "name": "ipython",
    "version": 3
   },
   "file_extension": ".py",
   "mimetype": "text/x-python",
   "name": "python",
   "nbconvert_exporter": "python",
   "pygments_lexer": "ipython3",
   "version": "3.10.16"
  }
 },
 "nbformat": 4,
 "nbformat_minor": 5
}
