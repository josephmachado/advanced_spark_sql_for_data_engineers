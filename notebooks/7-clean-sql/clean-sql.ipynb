{
 "cells": [
  {
   "cell_type": "markdown",
   "id": "87d21335-cfd3-4e0b-b546-d2b894053a71",
   "metadata": {},
   "source": [
    "# Clean SQL"
   ]
  },
  {
   "cell_type": "markdown",
   "id": "dec2b1f4-0364-4cea-8769-f7172aa416a4",
   "metadata": {},
   "source": [
    "## Bad practices to avoid"
   ]
  },
  {
   "cell_type": "markdown",
   "id": "79cab36b-b248-4f9a-880e-b9bc6121b605",
   "metadata": {},
   "source": [
    "## Auto linter and formatter"
   ]
  },
  {
   "cell_type": "markdown",
   "id": "b522b7da-6ecf-483e-aae3-d4ecfad77fbe",
   "metadata": {},
   "source": [
    "## Intellisense "
   ]
  },
  {
   "cell_type": "markdown",
   "id": "1be8dce7-fd90-4f8a-a95c-b52169d93072",
   "metadata": {},
   "source": [
    "## No 1000 line SQL"
   ]
  },
  {
   "cell_type": "markdown",
   "id": "12f17971-9116-4547-9bb1-a90a953c438a",
   "metadata": {},
   "source": [
    "## CTEs make it easy to debug "
   ]
  },
  {
   "cell_type": "markdown",
   "id": "2c083106-5e10-40d6-b183-219c7b8ee681",
   "metadata": {},
   "source": [
    "## Separate dataframes enable easier debugging"
   ]
  },
  {
   "cell_type": "markdown",
   "id": "c31bbac2-f23b-4be7-ae5c-85c005d5a4f9",
   "metadata": {},
   "source": [
    "## Code Organization & Structure:"
   ]
  },
  {
   "cell_type": "markdown",
   "id": "5c131aa4-bfda-40ff-be72-07a2fa85b4e6",
   "metadata": {},
   "source": [
    "## Performance-Aware Clean Code:"
   ]
  },
  {
   "cell_type": "markdown",
   "id": "7a2e66c0-16ce-4bac-9872-cad8c10bed6f",
   "metadata": {},
   "source": [
    "## Error Handling & Robustness:"
   ]
  },
  {
   "cell_type": "markdown",
   "id": "d0edd4fe-f067-4af6-acbc-1b704fb9a007",
   "metadata": {},
   "source": [
    "## Testing & Validation:"
   ]
  },
  {
   "cell_type": "markdown",
   "id": "ca5e87d3-b35e-475b-9809-e4b6ab2dfd56",
   "metadata": {},
   "source": [
    "## Collaboration & Maintenance:"
   ]
  },
  {
   "cell_type": "code",
   "execution_count": null,
   "id": "db8f6d8b-d487-40cd-899f-7c2428d1a671",
   "metadata": {},
   "outputs": [],
   "source": []
  }
 ],
 "metadata": {
  "kernelspec": {
   "display_name": "Python 3 (ipykernel)",
   "language": "python",
   "name": "python3"
  },
  "language_info": {
   "codemirror_mode": {
    "name": "ipython",
    "version": 3
   },
   "file_extension": ".py",
   "mimetype": "text/x-python",
   "name": "python",
   "nbconvert_exporter": "python",
   "pygments_lexer": "ipython3",
   "version": "3.10.16"
  }
 },
 "nbformat": 4,
 "nbformat_minor": 5
}
