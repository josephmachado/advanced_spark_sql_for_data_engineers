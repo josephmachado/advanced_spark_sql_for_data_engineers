{
 "cells": [
  {
   "cell_type": "markdown",
   "id": "2fef33b6-8966-4353-8b3a-7b5b045d95f8",
   "metadata": {},
   "source": [
    "# 3-Hop architecture"
   ]
  },
  {
   "cell_type": "markdown",
   "id": "6add6d32-10d8-43da-a6e4-8094addea08b",
   "metadata": {},
   "source": [
    "## Raw"
   ]
  },
  {
   "cell_type": "markdown",
   "id": "319ad282-3853-46b6-a53d-168c39abacb0",
   "metadata": {},
   "source": [
    "## Bronze"
   ]
  },
  {
   "cell_type": "markdown",
   "id": "06647db6-d9f7-4b16-bc8e-30c621493f5e",
   "metadata": {},
   "source": [
    "## Silver"
   ]
  },
  {
   "cell_type": "markdown",
   "id": "5d0f4531-d9c1-4d92-af37-dfbf0f18fe00",
   "metadata": {},
   "source": [
    "## Gold"
   ]
  },
  {
   "cell_type": "markdown",
   "id": "dd496757-1274-49e6-828b-7047b31a5c0d",
   "metadata": {},
   "source": [
    "### OBT"
   ]
  },
  {
   "cell_type": "markdown",
   "id": "91fb203a-db51-40a2-9159-ce541b24f9f1",
   "metadata": {},
   "source": [
    "#### Summary"
   ]
  }
 ],
 "metadata": {
  "kernelspec": {
   "display_name": "Python 3 (ipykernel)",
   "language": "python",
   "name": "python3"
  },
  "language_info": {
   "codemirror_mode": {
    "name": "ipython",
    "version": 3
   },
   "file_extension": ".py",
   "mimetype": "text/x-python",
   "name": "python",
   "nbconvert_exporter": "python",
   "pygments_lexer": "ipython3",
   "version": "3.10.16"
  }
 },
 "nbformat": 4,
 "nbformat_minor": 5
}
